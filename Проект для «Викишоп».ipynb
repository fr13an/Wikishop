{
 "cells": [
  {
   "cell_type": "markdown",
   "metadata": {},
   "source": [
    "# Проект для «Викишоп»"
   ]
  },
  {
   "cell_type": "markdown",
   "metadata": {},
   "source": [
    "## Подготовка"
   ]
  },
  {
   "cell_type": "code",
   "execution_count": 1,
   "metadata": {},
   "outputs": [
    {
     "name": "stderr",
     "output_type": "stream",
     "text": [
      "[nltk_data] Downloading package wordnet to /home/jovyan/nltk_data...\n",
      "[nltk_data]   Package wordnet is already up-to-date!\n",
      "[nltk_data] Downloading package wordnet to /home/jovyan/nltk_data...\n",
      "[nltk_data]   Package wordnet is already up-to-date!\n"
     ]
    }
   ],
   "source": [
    "import pandas as pd\n",
    "import matplotlib.pyplot as plt\n",
    "import numpy as np\n",
    "import seaborn as sns\n",
    "import re\n",
    "\n",
    "import nltk\n",
    "from pymystem3 import Mystem\n",
    "from nltk.stem import WordNetLemmatizer \n",
    "from nltk.corpus import stopwords as nltk_stopwords\n",
    "\n",
    "nltk.download('wordnet')\n",
    "\n",
    "from sklearn.model_selection import train_test_split\n",
    "from sklearn.linear_model import LogisticRegression\n",
    "from sklearn.metrics import f1_score\n",
    "from nltk.corpus import stopwords \n",
    "from sklearn.model_selection import GridSearchCV\n",
    "\n",
    "from sklearn.feature_extraction.text import TfidfVectorizer \n",
    "from sklearn.pipeline import Pipeline\n",
    "from nltk.corpus import stopwords as nltk_stopwords\n",
    "from sklearn.ensemble import RandomForestClassifier\n",
    "from sklearn.model_selection import RandomizedSearchCV\n",
    "\n",
    "from sklearn.tree import DecisionTreeClassifier\n",
    "from catboost import CatBoostClassifier\n",
    "\n",
    "import spacy\n",
    "from nltk.corpus import wordnet\n",
    "import nltk\n",
    "from nltk.stem import WordNetLemmatizer \n",
    "import nltk\n",
    "nltk.download('wordnet')\n",
    "from tqdm import tqdm\n",
    "tqdm.pandas()"
   ]
  },
  {
   "cell_type": "code",
   "execution_count": 2,
   "metadata": {},
   "outputs": [],
   "source": [
    "data = pd.read_csv('/datasets/toxic_comments.csv')"
   ]
  },
  {
   "cell_type": "code",
   "execution_count": 3,
   "metadata": {},
   "outputs": [
    {
     "name": "stdout",
     "output_type": "stream",
     "text": [
      "<class 'pandas.core.frame.DataFrame'>\n",
      "RangeIndex: 159292 entries, 0 to 159291\n",
      "Data columns (total 3 columns):\n",
      " #   Column      Non-Null Count   Dtype \n",
      "---  ------      --------------   ----- \n",
      " 0   Unnamed: 0  159292 non-null  int64 \n",
      " 1   text        159292 non-null  object\n",
      " 2   toxic       159292 non-null  int64 \n",
      "dtypes: int64(2), object(1)\n",
      "memory usage: 3.6+ MB\n"
     ]
    }
   ],
   "source": [
    "data.info()"
   ]
  },
  {
   "cell_type": "code",
   "execution_count": 4,
   "metadata": {},
   "outputs": [
    {
     "data": {
      "text/html": [
       "<div>\n",
       "<style scoped>\n",
       "    .dataframe tbody tr th:only-of-type {\n",
       "        vertical-align: middle;\n",
       "    }\n",
       "\n",
       "    .dataframe tbody tr th {\n",
       "        vertical-align: top;\n",
       "    }\n",
       "\n",
       "    .dataframe thead th {\n",
       "        text-align: right;\n",
       "    }\n",
       "</style>\n",
       "<table border=\"1\" class=\"dataframe\">\n",
       "  <thead>\n",
       "    <tr style=\"text-align: right;\">\n",
       "      <th></th>\n",
       "      <th>Unnamed: 0</th>\n",
       "      <th>text</th>\n",
       "      <th>toxic</th>\n",
       "    </tr>\n",
       "  </thead>\n",
       "  <tbody>\n",
       "    <tr>\n",
       "      <th>0</th>\n",
       "      <td>0</td>\n",
       "      <td>Explanation\\nWhy the edits made under my usern...</td>\n",
       "      <td>0</td>\n",
       "    </tr>\n",
       "    <tr>\n",
       "      <th>1</th>\n",
       "      <td>1</td>\n",
       "      <td>D'aww! He matches this background colour I'm s...</td>\n",
       "      <td>0</td>\n",
       "    </tr>\n",
       "    <tr>\n",
       "      <th>2</th>\n",
       "      <td>2</td>\n",
       "      <td>Hey man, I'm really not trying to edit war. It...</td>\n",
       "      <td>0</td>\n",
       "    </tr>\n",
       "    <tr>\n",
       "      <th>3</th>\n",
       "      <td>3</td>\n",
       "      <td>\"\\nMore\\nI can't make any real suggestions on ...</td>\n",
       "      <td>0</td>\n",
       "    </tr>\n",
       "    <tr>\n",
       "      <th>4</th>\n",
       "      <td>4</td>\n",
       "      <td>You, sir, are my hero. Any chance you remember...</td>\n",
       "      <td>0</td>\n",
       "    </tr>\n",
       "    <tr>\n",
       "      <th>...</th>\n",
       "      <td>...</td>\n",
       "      <td>...</td>\n",
       "      <td>...</td>\n",
       "    </tr>\n",
       "    <tr>\n",
       "      <th>159287</th>\n",
       "      <td>159446</td>\n",
       "      <td>\":::::And for the second time of asking, when ...</td>\n",
       "      <td>0</td>\n",
       "    </tr>\n",
       "    <tr>\n",
       "      <th>159288</th>\n",
       "      <td>159447</td>\n",
       "      <td>You should be ashamed of yourself \\n\\nThat is ...</td>\n",
       "      <td>0</td>\n",
       "    </tr>\n",
       "    <tr>\n",
       "      <th>159289</th>\n",
       "      <td>159448</td>\n",
       "      <td>Spitzer \\n\\nUmm, theres no actual article for ...</td>\n",
       "      <td>0</td>\n",
       "    </tr>\n",
       "    <tr>\n",
       "      <th>159290</th>\n",
       "      <td>159449</td>\n",
       "      <td>And it looks like it was actually you who put ...</td>\n",
       "      <td>0</td>\n",
       "    </tr>\n",
       "    <tr>\n",
       "      <th>159291</th>\n",
       "      <td>159450</td>\n",
       "      <td>\"\\nAnd ... I really don't think you understand...</td>\n",
       "      <td>0</td>\n",
       "    </tr>\n",
       "  </tbody>\n",
       "</table>\n",
       "<p>159292 rows × 3 columns</p>\n",
       "</div>"
      ],
      "text/plain": [
       "        Unnamed: 0                                               text  toxic\n",
       "0                0  Explanation\\nWhy the edits made under my usern...      0\n",
       "1                1  D'aww! He matches this background colour I'm s...      0\n",
       "2                2  Hey man, I'm really not trying to edit war. It...      0\n",
       "3                3  \"\\nMore\\nI can't make any real suggestions on ...      0\n",
       "4                4  You, sir, are my hero. Any chance you remember...      0\n",
       "...            ...                                                ...    ...\n",
       "159287      159446  \":::::And for the second time of asking, when ...      0\n",
       "159288      159447  You should be ashamed of yourself \\n\\nThat is ...      0\n",
       "159289      159448  Spitzer \\n\\nUmm, theres no actual article for ...      0\n",
       "159290      159449  And it looks like it was actually you who put ...      0\n",
       "159291      159450  \"\\nAnd ... I really don't think you understand...      0\n",
       "\n",
       "[159292 rows x 3 columns]"
      ]
     },
     "execution_count": 4,
     "metadata": {},
     "output_type": "execute_result"
    }
   ],
   "source": [
    "data"
   ]
  },
  {
   "cell_type": "code",
   "execution_count": 5,
   "metadata": {},
   "outputs": [
    {
     "data": {
      "text/html": [
       "<div>\n",
       "<style scoped>\n",
       "    .dataframe tbody tr th:only-of-type {\n",
       "        vertical-align: middle;\n",
       "    }\n",
       "\n",
       "    .dataframe tbody tr th {\n",
       "        vertical-align: top;\n",
       "    }\n",
       "\n",
       "    .dataframe thead th {\n",
       "        text-align: right;\n",
       "    }\n",
       "</style>\n",
       "<table border=\"1\" class=\"dataframe\">\n",
       "  <thead>\n",
       "    <tr style=\"text-align: right;\">\n",
       "      <th></th>\n",
       "      <th>Unnamed: 0</th>\n",
       "      <th>text</th>\n",
       "      <th>toxic</th>\n",
       "    </tr>\n",
       "  </thead>\n",
       "  <tbody>\n",
       "    <tr>\n",
       "      <th>6</th>\n",
       "      <td>6</td>\n",
       "      <td>COCKSUCKER BEFORE YOU PISS AROUND ON MY WORK</td>\n",
       "      <td>1</td>\n",
       "    </tr>\n",
       "    <tr>\n",
       "      <th>12</th>\n",
       "      <td>12</td>\n",
       "      <td>Hey... what is it..\\n@ | talk .\\nWhat is it......</td>\n",
       "      <td>1</td>\n",
       "    </tr>\n",
       "    <tr>\n",
       "      <th>16</th>\n",
       "      <td>16</td>\n",
       "      <td>Bye! \\n\\nDon't look, come or think of comming ...</td>\n",
       "      <td>1</td>\n",
       "    </tr>\n",
       "    <tr>\n",
       "      <th>42</th>\n",
       "      <td>42</td>\n",
       "      <td>You are gay or antisemmitian? \\n\\nArchangel WH...</td>\n",
       "      <td>1</td>\n",
       "    </tr>\n",
       "    <tr>\n",
       "      <th>43</th>\n",
       "      <td>43</td>\n",
       "      <td>FUCK YOUR FILTHY MOTHER IN THE ASS, DRY!</td>\n",
       "      <td>1</td>\n",
       "    </tr>\n",
       "    <tr>\n",
       "      <th>...</th>\n",
       "      <td>...</td>\n",
       "      <td>...</td>\n",
       "      <td>...</td>\n",
       "    </tr>\n",
       "    <tr>\n",
       "      <th>159215</th>\n",
       "      <td>159374</td>\n",
       "      <td>\"\\n\\n our previous conversation \\n\\nyou fuckin...</td>\n",
       "      <td>1</td>\n",
       "    </tr>\n",
       "    <tr>\n",
       "      <th>159235</th>\n",
       "      <td>159394</td>\n",
       "      <td>YOU ARE A MISCHIEVIOUS PUBIC HAIR</td>\n",
       "      <td>1</td>\n",
       "    </tr>\n",
       "    <tr>\n",
       "      <th>159262</th>\n",
       "      <td>159421</td>\n",
       "      <td>Your absurd edits \\n\\nYour absurd edits on gre...</td>\n",
       "      <td>1</td>\n",
       "    </tr>\n",
       "    <tr>\n",
       "      <th>159267</th>\n",
       "      <td>159426</td>\n",
       "      <td>\"\\n\\nHey listen don't you ever!!!! Delete my e...</td>\n",
       "      <td>1</td>\n",
       "    </tr>\n",
       "    <tr>\n",
       "      <th>159275</th>\n",
       "      <td>159434</td>\n",
       "      <td>and i'm going to keep posting the stuff u dele...</td>\n",
       "      <td>1</td>\n",
       "    </tr>\n",
       "  </tbody>\n",
       "</table>\n",
       "<p>16186 rows × 3 columns</p>\n",
       "</div>"
      ],
      "text/plain": [
       "        Unnamed: 0                                               text  toxic\n",
       "6                6       COCKSUCKER BEFORE YOU PISS AROUND ON MY WORK      1\n",
       "12              12  Hey... what is it..\\n@ | talk .\\nWhat is it......      1\n",
       "16              16  Bye! \\n\\nDon't look, come or think of comming ...      1\n",
       "42              42  You are gay or antisemmitian? \\n\\nArchangel WH...      1\n",
       "43              43           FUCK YOUR FILTHY MOTHER IN THE ASS, DRY!      1\n",
       "...            ...                                                ...    ...\n",
       "159215      159374  \"\\n\\n our previous conversation \\n\\nyou fuckin...      1\n",
       "159235      159394                  YOU ARE A MISCHIEVIOUS PUBIC HAIR      1\n",
       "159262      159421  Your absurd edits \\n\\nYour absurd edits on gre...      1\n",
       "159267      159426  \"\\n\\nHey listen don't you ever!!!! Delete my e...      1\n",
       "159275      159434  and i'm going to keep posting the stuff u dele...      1\n",
       "\n",
       "[16186 rows x 3 columns]"
      ]
     },
     "execution_count": 5,
     "metadata": {},
     "output_type": "execute_result"
    }
   ],
   "source": [
    "data.query('toxic == 1')"
   ]
  },
  {
   "cell_type": "code",
   "execution_count": 6,
   "metadata": {},
   "outputs": [
    {
     "data": {
      "image/png": "[encoded data removed]",
      "text/plain": [
       "<Figure size 720x432 with 1 Axes>"
      ]
     },
     "metadata": {},
     "output_type": "display_data"
    }
   ],
   "source": [
    "plt.figure(figsize=(10, 6))\n",
    "data['toxic'].value_counts().plot(kind='pie', autopct = '%1.0f%%')\n",
    "plt.title('Диаграмма распределения данных');"
   ]
  },
  {
   "cell_type": "markdown",
   "metadata": {},
   "source": [
    "Загрузили данные, выяснили, что в них присутствует 10% токсичных данных (16186 шт)."
   ]
  },
  {
   "cell_type": "markdown",
   "metadata": {},
   "source": [
    "приведем все данные к нижнему регистру"
   ]
  },
  {
   "cell_type": "code",
   "execution_count": 7,
   "metadata": {},
   "outputs": [],
   "source": [
    "data.text = data.text.str.lower()"
   ]
  },
  {
   "cell_type": "code",
   "execution_count": 8,
   "metadata": {},
   "outputs": [],
   "source": [
    "# data = data.rename(columns={'Unnamed: 0': 'unnamed'})    "
   ]
  },
  {
   "cell_type": "code",
   "execution_count": 9,
   "metadata": {},
   "outputs": [],
   "source": [
    "### Вернулся назад и подумал, что столбец Unnamed: 0 нам не нужен, предлагаю его удалить"
   ]
  },
  {
   "cell_type": "code",
   "execution_count": 10,
   "metadata": {},
   "outputs": [],
   "source": [
    "data = data.drop(['Unnamed: 0'], axis=1)"
   ]
  },
  {
   "cell_type": "code",
   "execution_count": 11,
   "metadata": {},
   "outputs": [
    {
     "data": {
      "text/html": [
       "<div>\n",
       "<style scoped>\n",
       "    .dataframe tbody tr th:only-of-type {\n",
       "        vertical-align: middle;\n",
       "    }\n",
       "\n",
       "    .dataframe tbody tr th {\n",
       "        vertical-align: top;\n",
       "    }\n",
       "\n",
       "    .dataframe thead th {\n",
       "        text-align: right;\n",
       "    }\n",
       "</style>\n",
       "<table border=\"1\" class=\"dataframe\">\n",
       "  <thead>\n",
       "    <tr style=\"text-align: right;\">\n",
       "      <th></th>\n",
       "      <th>text</th>\n",
       "      <th>toxic</th>\n",
       "    </tr>\n",
       "  </thead>\n",
       "  <tbody>\n",
       "    <tr>\n",
       "      <th>159289</th>\n",
       "      <td>spitzer \\n\\numm, theres no actual article for ...</td>\n",
       "      <td>0</td>\n",
       "    </tr>\n",
       "    <tr>\n",
       "      <th>159290</th>\n",
       "      <td>and it looks like it was actually you who put ...</td>\n",
       "      <td>0</td>\n",
       "    </tr>\n",
       "    <tr>\n",
       "      <th>159291</th>\n",
       "      <td>\"\\nand ... i really don't think you understand...</td>\n",
       "      <td>0</td>\n",
       "    </tr>\n",
       "  </tbody>\n",
       "</table>\n",
       "</div>"
      ],
      "text/plain": [
       "                                                     text  toxic\n",
       "159289  spitzer \\n\\numm, theres no actual article for ...      0\n",
       "159290  and it looks like it was actually you who put ...      0\n",
       "159291  \"\\nand ... i really don't think you understand...      0"
      ]
     },
     "execution_count": 11,
     "metadata": {},
     "output_type": "execute_result"
    }
   ],
   "source": [
    "data.tail(3)"
   ]
  },
  {
   "cell_type": "markdown",
   "metadata": {},
   "source": [
    "уберем пунктуацию, произведем замены и приведем текст в нижний регистр"
   ]
  },
  {
   "cell_type": "code",
   "execution_count": 12,
   "metadata": {},
   "outputs": [
    {
     "data": {
      "text/html": [
       "<div>\n",
       "<style scoped>\n",
       "    .dataframe tbody tr th:only-of-type {\n",
       "        vertical-align: middle;\n",
       "    }\n",
       "\n",
       "    .dataframe tbody tr th {\n",
       "        vertical-align: top;\n",
       "    }\n",
       "\n",
       "    .dataframe thead th {\n",
       "        text-align: right;\n",
       "    }\n",
       "</style>\n",
       "<table border=\"1\" class=\"dataframe\">\n",
       "  <thead>\n",
       "    <tr style=\"text-align: right;\">\n",
       "      <th></th>\n",
       "      <th>text</th>\n",
       "      <th>toxic</th>\n",
       "      <th>odds_free</th>\n",
       "    </tr>\n",
       "  </thead>\n",
       "  <tbody>\n",
       "    <tr>\n",
       "      <th>0</th>\n",
       "      <td>explanation\\nwhy the edits made under my usern...</td>\n",
       "      <td>0</td>\n",
       "      <td>explanation why the edits made under my userna...</td>\n",
       "    </tr>\n",
       "    <tr>\n",
       "      <th>1</th>\n",
       "      <td>d'aww! he matches this background colour i'm s...</td>\n",
       "      <td>0</td>\n",
       "      <td>d aww he matches this background colour i m se...</td>\n",
       "    </tr>\n",
       "    <tr>\n",
       "      <th>2</th>\n",
       "      <td>hey man, i'm really not trying to edit war. it...</td>\n",
       "      <td>0</td>\n",
       "      <td>hey man i m really not trying to edit war it s...</td>\n",
       "    </tr>\n",
       "    <tr>\n",
       "      <th>3</th>\n",
       "      <td>\"\\nmore\\ni can't make any real suggestions on ...</td>\n",
       "      <td>0</td>\n",
       "      <td>more i can t make any real suggestions on impr...</td>\n",
       "    </tr>\n",
       "    <tr>\n",
       "      <th>4</th>\n",
       "      <td>you, sir, are my hero. any chance you remember...</td>\n",
       "      <td>0</td>\n",
       "      <td>you sir are my hero any chance you remember wh...</td>\n",
       "    </tr>\n",
       "  </tbody>\n",
       "</table>\n",
       "</div>"
      ],
      "text/plain": [
       "                                                text  toxic  \\\n",
       "0  explanation\\nwhy the edits made under my usern...      0   \n",
       "1  d'aww! he matches this background colour i'm s...      0   \n",
       "2  hey man, i'm really not trying to edit war. it...      0   \n",
       "3  \"\\nmore\\ni can't make any real suggestions on ...      0   \n",
       "4  you, sir, are my hero. any chance you remember...      0   \n",
       "\n",
       "                                           odds_free  \n",
       "0  explanation why the edits made under my userna...  \n",
       "1  d aww he matches this background colour i m se...  \n",
       "2  hey man i m really not trying to edit war it s...  \n",
       "3  more i can t make any real suggestions on impr...  \n",
       "4  you sir are my hero any chance you remember wh...  "
      ]
     },
     "metadata": {},
     "output_type": "display_data"
    }
   ],
   "source": [
    "def remove_odd(text):\n",
    "    text = re.sub(r'[^a-zA-Z ]', ' ', text)\n",
    "    text = re.sub(r\"what's\", \"what is \", text)\n",
    "    text = re.sub(r\"\\'s\", \" \", text)\n",
    "    text = re.sub(r\"\\'ve\", \" have \", text)\n",
    "    text = re.sub(r\"can't\", \"cannot \", text)\n",
    "    text = re.sub(r\"n't\", \" not \", text)\n",
    "    text = re.sub(r\"i'm\", \"i am \", text)\n",
    "    text = re.sub(r\"\\'re\", \" are \", text)\n",
    "    text = re.sub(r\"\\'d\", \" would \", text)\n",
    "    text = re.sub(r\"\\'ll\", \" will \", text)\n",
    "    text = re.sub('\\W', ' ', text)\n",
    "    text = re.sub('\\s+', ' ', text)\n",
    "\n",
    "    text = text.split()\n",
    "    text = \" \".join(text)\n",
    "\n",
    "    return text\n",
    "data['odds_free'] = data['text'].apply(lambda x: remove_odd(x.lower()))\n",
    "display(data.head())"
   ]
  },
  {
   "cell_type": "markdown",
   "metadata": {},
   "source": [
    "удалим стоп слова"
   ]
  },
  {
   "cell_type": "code",
   "execution_count": 13,
   "metadata": {},
   "outputs": [
    {
     "data": {
      "text/html": [
       "<div>\n",
       "<style scoped>\n",
       "    .dataframe tbody tr th:only-of-type {\n",
       "        vertical-align: middle;\n",
       "    }\n",
       "\n",
       "    .dataframe tbody tr th {\n",
       "        vertical-align: top;\n",
       "    }\n",
       "\n",
       "    .dataframe thead th {\n",
       "        text-align: right;\n",
       "    }\n",
       "</style>\n",
       "<table border=\"1\" class=\"dataframe\">\n",
       "  <thead>\n",
       "    <tr style=\"text-align: right;\">\n",
       "      <th></th>\n",
       "      <th>text</th>\n",
       "      <th>toxic</th>\n",
       "      <th>odds_free</th>\n",
       "      <th>stopwords_free</th>\n",
       "    </tr>\n",
       "  </thead>\n",
       "  <tbody>\n",
       "    <tr>\n",
       "      <th>0</th>\n",
       "      <td>explanation\\nwhy the edits made under my usern...</td>\n",
       "      <td>0</td>\n",
       "      <td>explanation why the edits made under my userna...</td>\n",
       "      <td>[explanation, edits, made, username, hardcore,...</td>\n",
       "    </tr>\n",
       "    <tr>\n",
       "      <th>1</th>\n",
       "      <td>d'aww! he matches this background colour i'm s...</td>\n",
       "      <td>0</td>\n",
       "      <td>d aww he matches this background colour i m se...</td>\n",
       "      <td>[aww, matches, background, colour, seemingly, ...</td>\n",
       "    </tr>\n",
       "    <tr>\n",
       "      <th>2</th>\n",
       "      <td>hey man, i'm really not trying to edit war. it...</td>\n",
       "      <td>0</td>\n",
       "      <td>hey man i m really not trying to edit war it s...</td>\n",
       "      <td>[hey, man, really, trying, edit, war, guy, con...</td>\n",
       "    </tr>\n",
       "    <tr>\n",
       "      <th>3</th>\n",
       "      <td>\"\\nmore\\ni can't make any real suggestions on ...</td>\n",
       "      <td>0</td>\n",
       "      <td>more i can t make any real suggestions on impr...</td>\n",
       "      <td>[make, real, suggestions, improvement, wondere...</td>\n",
       "    </tr>\n",
       "    <tr>\n",
       "      <th>4</th>\n",
       "      <td>you, sir, are my hero. any chance you remember...</td>\n",
       "      <td>0</td>\n",
       "      <td>you sir are my hero any chance you remember wh...</td>\n",
       "      <td>[sir, hero, chance, remember, page]</td>\n",
       "    </tr>\n",
       "  </tbody>\n",
       "</table>\n",
       "</div>"
      ],
      "text/plain": [
       "                                                text  toxic  \\\n",
       "0  explanation\\nwhy the edits made under my usern...      0   \n",
       "1  d'aww! he matches this background colour i'm s...      0   \n",
       "2  hey man, i'm really not trying to edit war. it...      0   \n",
       "3  \"\\nmore\\ni can't make any real suggestions on ...      0   \n",
       "4  you, sir, are my hero. any chance you remember...      0   \n",
       "\n",
       "                                           odds_free  \\\n",
       "0  explanation why the edits made under my userna...   \n",
       "1  d aww he matches this background colour i m se...   \n",
       "2  hey man i m really not trying to edit war it s...   \n",
       "3  more i can t make any real suggestions on impr...   \n",
       "4  you sir are my hero any chance you remember wh...   \n",
       "\n",
       "                                      stopwords_free  \n",
       "0  [explanation, edits, made, username, hardcore,...  \n",
       "1  [aww, matches, background, colour, seemingly, ...  \n",
       "2  [hey, man, really, trying, edit, war, guy, con...  \n",
       "3  [make, real, suggestions, improvement, wondere...  \n",
       "4                [sir, hero, chance, remember, page]  "
      ]
     },
     "metadata": {},
     "output_type": "display_data"
    }
   ],
   "source": [
    "stop_words = set(nltk_stopwords.words('english'))\n",
    "\n",
    "def remove_stopwords(text):\n",
    "    text_ready = [i for i in text.split() if not i in stop_words]\n",
    "    return text_ready\n",
    "\n",
    "data['stopwords_free'] = data['odds_free'].apply(lambda x: remove_stopwords(x))\n",
    "display(data.head())"
   ]
  },
  {
   "cell_type": "markdown",
   "metadata": {},
   "source": [
    "определение тега POS"
   ]
  },
  {
   "cell_type": "code",
   "execution_count": 14,
   "metadata": {},
   "outputs": [],
   "source": [
    "def get_wordnet_pos(word):\n",
    "    \"\"\"Map POS tag to first character lemmatize() accepts\"\"\"\n",
    "    tag = nltk.pos_tag([word])[0][1][0].upper()\n",
    "    tag_dict = {\"J\": wordnet.ADJ,\n",
    "                \"N\": wordnet.NOUN,\n",
    "                \"V\": wordnet.VERB,\n",
    "                \"R\": wordnet.ADV}\n",
    "    return tag_dict.get(tag, wordnet.NOUN)"
   ]
  },
  {
   "cell_type": "markdown",
   "metadata": {},
   "source": [
    "выполним лемматизацию"
   ]
  },
  {
   "cell_type": "code",
   "execution_count": 15,
   "metadata": {},
   "outputs": [
    {
     "name": "stderr",
     "output_type": "stream",
     "text": [
      "100%|██████████| 159292/159292 [21:20<00:00, 124.36it/s]\n"
     ]
    },
    {
     "data": {
      "text/html": [
       "<div>\n",
       "<style scoped>\n",
       "    .dataframe tbody tr th:only-of-type {\n",
       "        vertical-align: middle;\n",
       "    }\n",
       "\n",
       "    .dataframe tbody tr th {\n",
       "        vertical-align: top;\n",
       "    }\n",
       "\n",
       "    .dataframe thead th {\n",
       "        text-align: right;\n",
       "    }\n",
       "</style>\n",
       "<table border=\"1\" class=\"dataframe\">\n",
       "  <thead>\n",
       "    <tr style=\"text-align: right;\">\n",
       "      <th></th>\n",
       "      <th>text</th>\n",
       "      <th>toxic</th>\n",
       "      <th>odds_free</th>\n",
       "      <th>stopwords_free</th>\n",
       "      <th>lemmatized</th>\n",
       "    </tr>\n",
       "  </thead>\n",
       "  <tbody>\n",
       "    <tr>\n",
       "      <th>0</th>\n",
       "      <td>explanation\\nwhy the edits made under my usern...</td>\n",
       "      <td>0</td>\n",
       "      <td>explanation why the edits made under my userna...</td>\n",
       "      <td>[explanation, edits, made, username, hardcore,...</td>\n",
       "      <td>explanation why the edits make under my userna...</td>\n",
       "    </tr>\n",
       "    <tr>\n",
       "      <th>1</th>\n",
       "      <td>d'aww! he matches this background colour i'm s...</td>\n",
       "      <td>0</td>\n",
       "      <td>d aww he matches this background colour i m se...</td>\n",
       "      <td>[aww, matches, background, colour, seemingly, ...</td>\n",
       "      <td>d aww he match this background colour i m seem...</td>\n",
       "    </tr>\n",
       "    <tr>\n",
       "      <th>2</th>\n",
       "      <td>hey man, i'm really not trying to edit war. it...</td>\n",
       "      <td>0</td>\n",
       "      <td>hey man i m really not trying to edit war it s...</td>\n",
       "      <td>[hey, man, really, trying, edit, war, guy, con...</td>\n",
       "      <td>hey man i m really not try to edit war it s ju...</td>\n",
       "    </tr>\n",
       "    <tr>\n",
       "      <th>3</th>\n",
       "      <td>\"\\nmore\\ni can't make any real suggestions on ...</td>\n",
       "      <td>0</td>\n",
       "      <td>more i can t make any real suggestions on impr...</td>\n",
       "      <td>[make, real, suggestions, improvement, wondere...</td>\n",
       "      <td>more i can t make any real suggestion on impro...</td>\n",
       "    </tr>\n",
       "    <tr>\n",
       "      <th>4</th>\n",
       "      <td>you, sir, are my hero. any chance you remember...</td>\n",
       "      <td>0</td>\n",
       "      <td>you sir are my hero any chance you remember wh...</td>\n",
       "      <td>[sir, hero, chance, remember, page]</td>\n",
       "      <td>you sir be my hero any chance you remember wha...</td>\n",
       "    </tr>\n",
       "  </tbody>\n",
       "</table>\n",
       "</div>"
      ],
      "text/plain": [
       "                                                text  toxic  \\\n",
       "0  explanation\\nwhy the edits made under my usern...      0   \n",
       "1  d'aww! he matches this background colour i'm s...      0   \n",
       "2  hey man, i'm really not trying to edit war. it...      0   \n",
       "3  \"\\nmore\\ni can't make any real suggestions on ...      0   \n",
       "4  you, sir, are my hero. any chance you remember...      0   \n",
       "\n",
       "                                           odds_free  \\\n",
       "0  explanation why the edits made under my userna...   \n",
       "1  d aww he matches this background colour i m se...   \n",
       "2  hey man i m really not trying to edit war it s...   \n",
       "3  more i can t make any real suggestions on impr...   \n",
       "4  you sir are my hero any chance you remember wh...   \n",
       "\n",
       "                                      stopwords_free  \\\n",
       "0  [explanation, edits, made, username, hardcore,...   \n",
       "1  [aww, matches, background, colour, seemingly, ...   \n",
       "2  [hey, man, really, trying, edit, war, guy, con...   \n",
       "3  [make, real, suggestions, improvement, wondere...   \n",
       "4                [sir, hero, chance, remember, page]   \n",
       "\n",
       "                                          lemmatized  \n",
       "0  explanation why the edits make under my userna...  \n",
       "1  d aww he match this background colour i m seem...  \n",
       "2  hey man i m really not try to edit war it s ju...  \n",
       "3  more i can t make any real suggestion on impro...  \n",
       "4  you sir be my hero any chance you remember wha...  "
      ]
     },
     "metadata": {},
     "output_type": "display_data"
    },
    {
     "name": "stdout",
     "output_type": "stream",
     "text": [
      "CPU times: user 19min 25s, sys: 1min 36s, total: 21min 2s\n",
      "Wall time: 21min 20s\n"
     ]
    }
   ],
   "source": [
    "%%time\n",
    "lemmatizer = nltk.WordNetLemmatizer()\n",
    "\n",
    "def lemmatize_text(text):\n",
    "    lemmatized_text = ' '.join([lemmatizer.lemmatize(x, get_wordnet_pos(x)) for x in nltk.word_tokenize(text)])\n",
    "    return lemmatized_text\n",
    "\n",
    "data['lemmatized'] = data['odds_free'].progress_apply(lambda x: lemmatize_text(x))\n",
    "display(data.head())"
   ]
  },
  {
   "cell_type": "markdown",
   "metadata": {},
   "source": [
    "Подготовили данные для дальнейшей работы:\n",
    "* привели к нижнему регистру;\n",
    "* Лемматизировали;\n",
    "* токенизировали;\n",
    "* убрали лишние символы и признаки."
   ]
  },
  {
   "cell_type": "markdown",
   "metadata": {},
   "source": [
    "## Обучение"
   ]
  },
  {
   "cell_type": "markdown",
   "metadata": {},
   "source": [
    "разобьем на обучающую и тестовую выборки"
   ]
  },
  {
   "cell_type": "code",
   "execution_count": 16,
   "metadata": {},
   "outputs": [],
   "source": [
    "df = data[['toxic', 'lemmatized']]\n",
    "y = df['toxic']\n",
    "X = df.drop(['toxic'], axis=1)"
   ]
  },
  {
   "cell_type": "code",
   "execution_count": 17,
   "metadata": {},
   "outputs": [],
   "source": [
    "RANDOM_STATE = 42"
   ]
  },
  {
   "cell_type": "code",
   "execution_count": 18,
   "metadata": {},
   "outputs": [],
   "source": [
    "X_train, X_test, y_train, y_test = (\n",
    "                        train_test_split(X,\n",
    "                                         y,\n",
    "                                         test_size=0.25,\n",
    "                                         random_state=RANDOM_STATE))"
   ]
  },
  {
   "cell_type": "code",
   "execution_count": 19,
   "metadata": {},
   "outputs": [
    {
     "data": {
      "text/plain": [
       "'Размер X_train = (119469, 1)'"
      ]
     },
     "metadata": {},
     "output_type": "display_data"
    },
    {
     "data": {
      "text/plain": [
       "'Размер X_test = (39823, 1)'"
      ]
     },
     "metadata": {},
     "output_type": "display_data"
    },
    {
     "data": {
      "text/plain": [
       "'Размер y_train = (119469,)'"
      ]
     },
     "metadata": {},
     "output_type": "display_data"
    },
    {
     "data": {
      "text/plain": [
       "'Размер y_test = (39823,)'"
      ]
     },
     "metadata": {},
     "output_type": "display_data"
    }
   ],
   "source": [
    "display(f'Размер X_train = {X_train.shape}')\n",
    "display(f'Размер X_test = {X_test.shape}')\n",
    "display(f'Размер y_train = {y_train.shape}')\n",
    "display(f'Размер y_test = {y_test.shape}')"
   ]
  },
  {
   "cell_type": "code",
   "execution_count": 20,
   "metadata": {},
   "outputs": [
    {
     "data": {
      "text/html": [
       "<div>\n",
       "<style scoped>\n",
       "    .dataframe tbody tr th:only-of-type {\n",
       "        vertical-align: middle;\n",
       "    }\n",
       "\n",
       "    .dataframe tbody tr th {\n",
       "        vertical-align: top;\n",
       "    }\n",
       "\n",
       "    .dataframe thead th {\n",
       "        text-align: right;\n",
       "    }\n",
       "</style>\n",
       "<table border=\"1\" class=\"dataframe\">\n",
       "  <thead>\n",
       "    <tr style=\"text-align: right;\">\n",
       "      <th></th>\n",
       "      <th>lemmatized</th>\n",
       "    </tr>\n",
       "  </thead>\n",
       "  <tbody>\n",
       "    <tr>\n",
       "      <th>17183</th>\n",
       "      <td>the source be also not acceptable for reason a...</td>\n",
       "    </tr>\n",
       "    <tr>\n",
       "      <th>123920</th>\n",
       "      <td>etaonash just like the rest of the editor you ...</td>\n",
       "    </tr>\n",
       "    <tr>\n",
       "      <th>12358</th>\n",
       "      <td>do you remove my post on the discussion page f...</td>\n",
       "    </tr>\n",
       "    <tr>\n",
       "      <th>101443</th>\n",
       "      <td>aggressive edit please discus with me any diss...</td>\n",
       "    </tr>\n",
       "    <tr>\n",
       "      <th>29758</th>\n",
       "      <td>really good contributor bullshit the cabal dis...</td>\n",
       "    </tr>\n",
       "    <tr>\n",
       "      <th>...</th>\n",
       "      <td>...</td>\n",
       "    </tr>\n",
       "    <tr>\n",
       "      <th>119879</th>\n",
       "      <td>first of all editor theredpenofdoom be not a m...</td>\n",
       "    </tr>\n",
       "    <tr>\n",
       "      <th>103694</th>\n",
       "      <td>and decide to become gay</td>\n",
       "    </tr>\n",
       "    <tr>\n",
       "      <th>131932</th>\n",
       "      <td>john bull v adolf hitler look at the picture o...</td>\n",
       "    </tr>\n",
       "    <tr>\n",
       "      <th>146867</th>\n",
       "      <td>october you have a lot to learn about the way ...</td>\n",
       "    </tr>\n",
       "    <tr>\n",
       "      <th>121958</th>\n",
       "      <td>i m sorry tip the deduction be obvious and wro...</td>\n",
       "    </tr>\n",
       "  </tbody>\n",
       "</table>\n",
       "<p>119469 rows × 1 columns</p>\n",
       "</div>"
      ],
      "text/plain": [
       "                                               lemmatized\n",
       "17183   the source be also not acceptable for reason a...\n",
       "123920  etaonash just like the rest of the editor you ...\n",
       "12358   do you remove my post on the discussion page f...\n",
       "101443  aggressive edit please discus with me any diss...\n",
       "29758   really good contributor bullshit the cabal dis...\n",
       "...                                                   ...\n",
       "119879  first of all editor theredpenofdoom be not a m...\n",
       "103694                           and decide to become gay\n",
       "131932  john bull v adolf hitler look at the picture o...\n",
       "146867  october you have a lot to learn about the way ...\n",
       "121958  i m sorry tip the deduction be obvious and wro...\n",
       "\n",
       "[119469 rows x 1 columns]"
      ]
     },
     "execution_count": 20,
     "metadata": {},
     "output_type": "execute_result"
    }
   ],
   "source": [
    "X_train"
   ]
  },
  {
   "cell_type": "markdown",
   "metadata": {},
   "source": [
    "### Модель линейной регрессии"
   ]
  },
  {
   "cell_type": "code",
   "execution_count": 21,
   "metadata": {},
   "outputs": [],
   "source": [
    "def training(model, params):\n",
    "    pipeline = Pipeline([\n",
    "        ('tfidf', TfidfVectorizer(min_df = 1)),\n",
    "        ('model', model)])\n",
    "    grid = GridSearchCV(pipeline, cv = 5, n_jobs = -1, param_grid = params ,scoring = 'f1', verbose = False)\n",
    "    grid.fit(X_train['lemmatized'], y_train)\n",
    "    print('Лучший результат:', grid.best_score_)\n",
    "    print('Лучшие параметры:', grid.best_params_)\n",
    "    return grid"
   ]
  },
  {
   "cell_type": "code",
   "execution_count": null,
   "metadata": {},
   "outputs": [],
   "source": [
    "%%time\n",
    "lr_mod = training(LogisticRegression(), {\"model__C\":[0.1, 1.0, 10.0], \"model__penalty\":[\"l2\"]})"
   ]
  },
  {
   "cell_type": "markdown",
   "metadata": {},
   "source": [
    "Лучший результат: 0.7833064819072815\n",
    "Лучшие параметры: {'model__C': 10.0, 'model__penalty': 'l2'}\n",
    "CPU times: user 5min 49s, sys: 4min 45s, total: 10min 35s\n",
    "Wall time: 10min 35s"
   ]
  },
  {
   "cell_type": "markdown",
   "metadata": {},
   "source": [
    "### Модель дерево решений"
   ]
  },
  {
   "cell_type": "code",
   "execution_count": 23,
   "metadata": {},
   "outputs": [
    {
     "name": "stdout",
     "output_type": "stream",
     "text": [
      "Лучший результат: 0.5635713873418473\n",
      "Лучшие параметры: {'model__criterion': 'gini', 'model__max_depth': 6}\n",
      "CPU times: user 4min 35s, sys: 1.52 s, total: 4min 37s\n",
      "Wall time: 4min 37s\n"
     ]
    }
   ],
   "source": [
    "%%time\n",
    "dtc_mod = training(DecisionTreeClassifier(), {'model__criterion':['gini','entropy'],'model__max_depth':[2,4,6]})"
   ]
  },
  {
   "cell_type": "markdown",
   "metadata": {},
   "source": [
    "### Модель CatBoost"
   ]
  },
  {
   "cell_type": "markdown",
   "metadata": {},
   "source": []
  },
  {
   "cell_type": "code",
   "execution_count": 24,
   "metadata": {},
   "outputs": [],
   "source": [
    "#%%time\n",
    "#cat_mod = training(CatBoostClassifier(logging_level='Silent'), {'model__depth': [4,6],\n",
    "#                 'model__learning_rate' : [0.01,0.03],\n",
    "#                  'model__iterations' : [10, 50]})"
   ]
  },
  {
   "cell_type": "raw",
   "metadata": {},
   "source": [
    "Лучший результат: 0.5189180846787698\n",
    "Лучшие параметры: {'model__depth': 6, 'model__iterations': 50, 'model__learning_rate': 0.03}\n",
    "CPU times: user 50min 42s, sys: 13 s, total: 50min 55s\n",
    "Wall time: 51min 23s"
   ]
  },
  {
   "cell_type": "markdown",
   "metadata": {},
   "source": [
    "Лучший результат у можели линейной регрессии, проверим на тестовой выборке"
   ]
  },
  {
   "cell_type": "code",
   "execution_count": 25,
   "metadata": {},
   "outputs": [],
   "source": [
    "f1 = f1_score(y_test, lr_mod.predict(X_test['lemmatized']))"
   ]
  },
  {
   "cell_type": "code",
   "execution_count": 26,
   "metadata": {},
   "outputs": [
    {
     "name": "stdout",
     "output_type": "stream",
     "text": [
      "Результат LogisticRegression 0.79\n"
     ]
    }
   ],
   "source": [
    "print(f'Результат LogisticRegression {round(f1,2)}')"
   ]
  },
  {
   "cell_type": "markdown",
   "metadata": {},
   "source": [
    "## Выводы"
   ]
  },
  {
   "cell_type": "markdown",
   "metadata": {},
   "source": [
    "Лучше всего справилась модель линейной регрессии с метрикой F1 на тренировочной выборке 0,78 и на тестовой 0,79"
   ]
  }
 ],
 "metadata": {
  "ExecuteTimeLog": [
   {
    "duration": 77,
    "start_time": "2024-01-13T15:48:00.461Z"
   },
   {
    "duration": 42,
    "start_time": "2024-01-13T15:48:00.861Z"
   },
   {
    "duration": 388,
    "start_time": "2024-01-13T15:48:10.818Z"
   },
   {
    "duration": 2289,
    "start_time": "2024-01-13T15:48:11.407Z"
   },
   {
    "duration": 19,
    "start_time": "2024-01-13T15:48:17.606Z"
   },
   {
    "duration": 14,
    "start_time": "2024-01-13T15:48:49.417Z"
   },
   {
    "duration": 30,
    "start_time": "2024-01-13T15:49:15.917Z"
   },
   {
    "duration": 525,
    "start_time": "2024-01-13T15:50:23.221Z"
   },
   {
    "duration": 68,
    "start_time": "2024-01-13T15:50:28.245Z"
   },
   {
    "duration": 95,
    "start_time": "2024-01-13T15:50:57.797Z"
   },
   {
    "duration": 524,
    "start_time": "2024-01-13T15:51:13.514Z"
   },
   {
    "duration": 72,
    "start_time": "2024-01-13T15:51:16.835Z"
   },
   {
    "duration": 75,
    "start_time": "2024-01-13T15:51:53.598Z"
   },
   {
    "duration": 75,
    "start_time": "2024-01-13T15:52:05.564Z"
   },
   {
    "duration": 76,
    "start_time": "2024-01-13T15:52:22.384Z"
   },
   {
    "duration": 109,
    "start_time": "2024-01-13T15:52:26.221Z"
   },
   {
    "duration": 73,
    "start_time": "2024-01-13T15:53:05.107Z"
   },
   {
    "duration": 138,
    "start_time": "2024-01-13T15:53:09.486Z"
   },
   {
    "duration": 70,
    "start_time": "2024-01-13T15:53:14.210Z"
   },
   {
    "duration": 76,
    "start_time": "2024-01-13T15:53:16.792Z"
   },
   {
    "duration": 68,
    "start_time": "2024-01-13T15:53:24.744Z"
   },
   {
    "duration": 79,
    "start_time": "2024-01-13T15:54:54.985Z"
   },
   {
    "duration": 147,
    "start_time": "2024-01-13T15:55:06.014Z"
   },
   {
    "duration": 80,
    "start_time": "2024-01-13T15:55:14.900Z"
   },
   {
    "duration": 104,
    "start_time": "2024-01-13T15:55:17.872Z"
   },
   {
    "duration": 78,
    "start_time": "2024-01-13T15:55:24.303Z"
   },
   {
    "duration": 10,
    "start_time": "2024-01-13T15:56:56.674Z"
   },
   {
    "duration": 8,
    "start_time": "2024-01-13T15:57:08.938Z"
   },
   {
    "duration": 343,
    "start_time": "2024-01-13T15:57:21.898Z"
   },
   {
    "duration": 8,
    "start_time": "2024-01-13T15:57:27.137Z"
   },
   {
    "duration": 163,
    "start_time": "2024-01-13T15:59:10.882Z"
   },
   {
    "duration": 16,
    "start_time": "2024-01-13T15:59:15.891Z"
   },
   {
    "duration": 6,
    "start_time": "2024-01-13T15:59:16.473Z"
   },
   {
    "duration": 1034,
    "start_time": "2024-01-13T15:59:26.862Z"
   },
   {
    "duration": 883,
    "start_time": "2024-01-13T15:59:27.897Z"
   },
   {
    "duration": 33,
    "start_time": "2024-01-13T15:59:28.781Z"
   },
   {
    "duration": 12,
    "start_time": "2024-01-13T15:59:28.816Z"
   },
   {
    "duration": 14,
    "start_time": "2024-01-13T15:59:28.830Z"
   },
   {
    "duration": 123,
    "start_time": "2024-01-13T15:59:28.846Z"
   },
   {
    "duration": 290,
    "start_time": "2024-01-13T15:59:28.971Z"
   },
   {
    "duration": 16,
    "start_time": "2024-01-13T15:59:29.264Z"
   },
   {
    "duration": 7,
    "start_time": "2024-01-13T15:59:29.282Z"
   },
   {
    "duration": 96,
    "start_time": "2024-01-13T16:01:13.324Z"
   },
   {
    "duration": 22,
    "start_time": "2024-01-13T16:01:44.182Z"
   },
   {
    "duration": 10,
    "start_time": "2024-01-13T16:01:54.592Z"
   },
   {
    "duration": 8,
    "start_time": "2024-01-13T16:01:56.672Z"
   },
   {
    "duration": 7,
    "start_time": "2024-01-13T16:02:12.553Z"
   },
   {
    "duration": 4,
    "start_time": "2024-01-13T16:06:18.209Z"
   },
   {
    "duration": 2,
    "start_time": "2024-01-13T16:07:08.585Z"
   },
   {
    "duration": 3,
    "start_time": "2024-01-13T16:07:58.546Z"
   },
   {
    "duration": 2062,
    "start_time": "2024-01-13T16:08:36.244Z"
   },
   {
    "duration": 9,
    "start_time": "2024-01-13T16:08:44.562Z"
   },
   {
    "duration": 7,
    "start_time": "2024-01-13T16:08:53.969Z"
   },
   {
    "duration": 6,
    "start_time": "2024-01-13T16:09:00.250Z"
   },
   {
    "duration": 597402,
    "start_time": "2024-01-13T16:09:11.707Z"
   },
   {
    "duration": 0,
    "start_time": "2024-01-13T16:19:09.111Z"
   },
   {
    "duration": 542,
    "start_time": "2024-01-13T16:20:53.880Z"
   },
   {
    "duration": 3,
    "start_time": "2024-01-13T16:21:06.894Z"
   },
   {
    "duration": 1443,
    "start_time": "2024-01-13T16:21:16.940Z"
   },
   {
    "duration": 826,
    "start_time": "2024-01-13T16:21:18.385Z"
   },
   {
    "duration": 29,
    "start_time": "2024-01-13T16:21:19.213Z"
   },
   {
    "duration": 13,
    "start_time": "2024-01-13T16:21:19.243Z"
   },
   {
    "duration": 14,
    "start_time": "2024-01-13T16:21:19.259Z"
   },
   {
    "duration": 188,
    "start_time": "2024-01-13T16:21:19.275Z"
   },
   {
    "duration": 296,
    "start_time": "2024-01-13T16:21:19.465Z"
   },
   {
    "duration": 6,
    "start_time": "2024-01-13T16:21:19.764Z"
   },
   {
    "duration": 7,
    "start_time": "2024-01-13T16:21:19.771Z"
   },
   {
    "duration": 2,
    "start_time": "2024-01-13T16:21:19.779Z"
   },
   {
    "duration": 3,
    "start_time": "2024-01-13T16:21:19.783Z"
   },
   {
    "duration": 2016,
    "start_time": "2024-01-13T16:21:19.787Z"
   },
   {
    "duration": 7,
    "start_time": "2024-01-13T16:21:21.805Z"
   },
   {
    "duration": 137,
    "start_time": "2024-01-13T16:21:21.814Z"
   },
   {
    "duration": 0,
    "start_time": "2024-01-13T16:21:21.952Z"
   },
   {
    "duration": 1640,
    "start_time": "2024-01-14T15:15:53.856Z"
   },
   {
    "duration": 2218,
    "start_time": "2024-01-14T15:15:55.498Z"
   },
   {
    "duration": 30,
    "start_time": "2024-01-14T15:15:57.718Z"
   },
   {
    "duration": 13,
    "start_time": "2024-01-14T15:15:57.750Z"
   },
   {
    "duration": 14,
    "start_time": "2024-01-14T15:15:57.765Z"
   },
   {
    "duration": 180,
    "start_time": "2024-01-14T15:15:57.780Z"
   },
   {
    "duration": 271,
    "start_time": "2024-01-14T15:15:57.962Z"
   },
   {
    "duration": 5,
    "start_time": "2024-01-14T15:15:58.236Z"
   },
   {
    "duration": 6,
    "start_time": "2024-01-14T15:15:58.243Z"
   },
   {
    "duration": 5,
    "start_time": "2024-01-14T15:15:58.251Z"
   },
   {
    "duration": 4,
    "start_time": "2024-01-14T15:15:58.257Z"
   },
   {
    "duration": 2280,
    "start_time": "2024-01-14T15:15:58.262Z"
   },
   {
    "duration": 7,
    "start_time": "2024-01-14T15:16:00.543Z"
   },
   {
    "duration": 144,
    "start_time": "2024-01-14T15:16:00.552Z"
   },
   {
    "duration": 0,
    "start_time": "2024-01-14T15:16:00.698Z"
   },
   {
    "duration": 9,
    "start_time": "2024-01-14T15:16:24.653Z"
   },
   {
    "duration": 3,
    "start_time": "2024-01-14T15:16:49.371Z"
   },
   {
    "duration": 3,
    "start_time": "2024-01-14T15:16:53.503Z"
   },
   {
    "duration": 3,
    "start_time": "2024-01-14T15:17:06.319Z"
   },
   {
    "duration": 3,
    "start_time": "2024-01-14T15:17:08.001Z"
   },
   {
    "duration": 1333,
    "start_time": "2024-01-14T15:17:09.666Z"
   },
   {
    "duration": 11,
    "start_time": "2024-01-14T15:17:11.001Z"
   },
   {
    "duration": 77546,
    "start_time": "2024-01-14T15:17:12.051Z"
   },
   {
    "duration": 7,
    "start_time": "2024-01-14T15:18:29.598Z"
   },
   {
    "duration": 186,
    "start_time": "2024-01-14T15:22:30.189Z"
   },
   {
    "duration": 2,
    "start_time": "2024-01-14T15:25:20.880Z"
   },
   {
    "duration": 1573,
    "start_time": "2024-01-14T15:32:59.576Z"
   },
   {
    "duration": 892,
    "start_time": "2024-01-14T15:33:01.151Z"
   },
   {
    "duration": 37,
    "start_time": "2024-01-14T15:33:02.045Z"
   },
   {
    "duration": 27,
    "start_time": "2024-01-14T15:33:02.084Z"
   },
   {
    "duration": 22,
    "start_time": "2024-01-14T15:33:02.114Z"
   },
   {
    "duration": 181,
    "start_time": "2024-01-14T15:33:02.137Z"
   },
   {
    "duration": 290,
    "start_time": "2024-01-14T15:33:02.321Z"
   },
   {
    "duration": 3,
    "start_time": "2024-01-14T15:33:02.613Z"
   },
   {
    "duration": 15,
    "start_time": "2024-01-14T15:33:02.617Z"
   },
   {
    "duration": 20,
    "start_time": "2024-01-14T15:33:02.633Z"
   },
   {
    "duration": 15,
    "start_time": "2024-01-14T15:33:02.655Z"
   },
   {
    "duration": 11,
    "start_time": "2024-01-14T15:33:02.671Z"
   },
   {
    "duration": 4,
    "start_time": "2024-01-14T15:33:02.683Z"
   },
   {
    "duration": 6,
    "start_time": "2024-01-14T15:33:02.689Z"
   },
   {
    "duration": 2055,
    "start_time": "2024-01-14T15:33:02.696Z"
   },
   {
    "duration": 6,
    "start_time": "2024-01-14T15:33:04.753Z"
   },
   {
    "duration": 76928,
    "start_time": "2024-01-14T15:33:04.761Z"
   },
   {
    "duration": 12,
    "start_time": "2024-01-14T15:34:21.699Z"
   },
   {
    "duration": 7,
    "start_time": "2024-01-14T15:34:21.713Z"
   },
   {
    "duration": 10,
    "start_time": "2024-01-14T15:34:21.722Z"
   },
   {
    "duration": 6,
    "start_time": "2024-01-14T15:34:32.711Z"
   },
   {
    "duration": 75241,
    "start_time": "2024-01-14T15:34:33.466Z"
   },
   {
    "duration": 12,
    "start_time": "2024-01-14T15:35:48.711Z"
   },
   {
    "duration": 1281,
    "start_time": "2024-01-14T15:39:44.427Z"
   },
   {
    "duration": 9,
    "start_time": "2024-01-14T15:39:55.205Z"
   },
   {
    "duration": 2,
    "start_time": "2024-01-14T15:40:07.414Z"
   },
   {
    "duration": 10,
    "start_time": "2024-01-14T15:41:17.796Z"
   },
   {
    "duration": 4,
    "start_time": "2024-01-14T15:41:55.202Z"
   },
   {
    "duration": 20,
    "start_time": "2024-01-14T15:41:59.356Z"
   },
   {
    "duration": 9,
    "start_time": "2024-01-14T15:42:22.548Z"
   },
   {
    "duration": 7,
    "start_time": "2024-01-14T15:42:39.482Z"
   },
   {
    "duration": 3,
    "start_time": "2024-01-14T15:42:45.424Z"
   },
   {
    "duration": 4,
    "start_time": "2024-01-14T15:43:10.060Z"
   },
   {
    "duration": 6,
    "start_time": "2024-01-14T15:43:28.364Z"
   },
   {
    "duration": 10,
    "start_time": "2024-01-14T15:45:59.088Z"
   },
   {
    "duration": 18,
    "start_time": "2024-01-14T15:46:37.050Z"
   },
   {
    "duration": 4,
    "start_time": "2024-01-14T15:48:47.011Z"
   },
   {
    "duration": 211,
    "start_time": "2024-01-14T15:49:56.297Z"
   },
   {
    "duration": 9,
    "start_time": "2024-01-14T15:50:10.247Z"
   },
   {
    "duration": 26,
    "start_time": "2024-01-14T15:50:52.194Z"
   },
   {
    "duration": 4,
    "start_time": "2024-01-14T15:50:58.286Z"
   },
   {
    "duration": 3,
    "start_time": "2024-01-14T15:51:27.913Z"
   },
   {
    "duration": 2,
    "start_time": "2024-01-14T15:51:34.132Z"
   },
   {
    "duration": 4,
    "start_time": "2024-01-14T15:51:37.229Z"
   },
   {
    "duration": 2,
    "start_time": "2024-01-14T15:51:37.414Z"
   },
   {
    "duration": 2,
    "start_time": "2024-01-14T15:52:14.447Z"
   },
   {
    "duration": 6,
    "start_time": "2024-01-14T15:52:23.985Z"
   },
   {
    "duration": 3,
    "start_time": "2024-01-14T15:52:29.406Z"
   },
   {
    "duration": 14,
    "start_time": "2024-01-14T15:53:30.669Z"
   },
   {
    "duration": 6,
    "start_time": "2024-01-14T15:53:47.830Z"
   },
   {
    "duration": 72,
    "start_time": "2024-01-14T15:54:58.057Z"
   },
   {
    "duration": 8,
    "start_time": "2024-01-14T15:55:23.558Z"
   },
   {
    "duration": 95,
    "start_time": "2024-01-14T15:55:27.800Z"
   },
   {
    "duration": 29,
    "start_time": "2024-01-14T15:55:43.055Z"
   },
   {
    "duration": 80,
    "start_time": "2024-01-14T15:55:46.939Z"
   },
   {
    "duration": 5,
    "start_time": "2024-01-14T15:56:09.984Z"
   },
   {
    "duration": 70,
    "start_time": "2024-01-14T15:56:58.756Z"
   },
   {
    "duration": 3,
    "start_time": "2024-01-14T15:57:13.333Z"
   },
   {
    "duration": 76,
    "start_time": "2024-01-14T15:57:13.873Z"
   },
   {
    "duration": 4,
    "start_time": "2024-01-14T15:57:44.498Z"
   },
   {
    "duration": 14,
    "start_time": "2024-01-14T15:57:51.991Z"
   },
   {
    "duration": 4,
    "start_time": "2024-01-14T15:59:12.544Z"
   },
   {
    "duration": 185,
    "start_time": "2024-01-14T15:59:12.984Z"
   },
   {
    "duration": 1770,
    "start_time": "2024-01-14T15:59:22.187Z"
   },
   {
    "duration": 876,
    "start_time": "2024-01-14T15:59:23.959Z"
   },
   {
    "duration": 27,
    "start_time": "2024-01-14T15:59:24.836Z"
   },
   {
    "duration": 12,
    "start_time": "2024-01-14T15:59:24.864Z"
   },
   {
    "duration": 38,
    "start_time": "2024-01-14T15:59:24.878Z"
   },
   {
    "duration": 107,
    "start_time": "2024-01-14T15:59:24.917Z"
   },
   {
    "duration": 310,
    "start_time": "2024-01-14T15:59:25.025Z"
   },
   {
    "duration": 3,
    "start_time": "2024-01-14T15:59:25.338Z"
   },
   {
    "duration": 3,
    "start_time": "2024-01-14T15:59:25.343Z"
   },
   {
    "duration": 11,
    "start_time": "2024-01-14T15:59:25.348Z"
   },
   {
    "duration": 10,
    "start_time": "2024-01-14T15:59:25.360Z"
   },
   {
    "duration": 5,
    "start_time": "2024-01-14T15:59:25.372Z"
   },
   {
    "duration": 12,
    "start_time": "2024-01-14T15:59:25.378Z"
   },
   {
    "duration": 3,
    "start_time": "2024-01-14T15:59:25.410Z"
   },
   {
    "duration": 2018,
    "start_time": "2024-01-14T15:59:25.415Z"
   },
   {
    "duration": 7,
    "start_time": "2024-01-14T15:59:27.435Z"
   },
   {
    "duration": 78725,
    "start_time": "2024-01-14T15:59:27.444Z"
   },
   {
    "duration": 10,
    "start_time": "2024-01-14T16:00:46.172Z"
   },
   {
    "duration": 18,
    "start_time": "2024-01-14T16:00:46.183Z"
   },
   {
    "duration": 6,
    "start_time": "2024-01-14T16:00:46.203Z"
   },
   {
    "duration": 37,
    "start_time": "2024-01-14T16:00:46.212Z"
   },
   {
    "duration": 9,
    "start_time": "2024-01-14T16:00:46.251Z"
   },
   {
    "duration": 3,
    "start_time": "2024-01-14T16:00:46.262Z"
   },
   {
    "duration": 4,
    "start_time": "2024-01-14T16:00:46.267Z"
   },
   {
    "duration": 8,
    "start_time": "2024-01-14T16:00:46.273Z"
   },
   {
    "duration": 28,
    "start_time": "2024-01-14T16:00:46.283Z"
   },
   {
    "duration": 4,
    "start_time": "2024-01-14T16:00:46.313Z"
   },
   {
    "duration": 326,
    "start_time": "2024-01-14T16:00:46.318Z"
   },
   {
    "duration": 0,
    "start_time": "2024-01-14T16:00:46.646Z"
   },
   {
    "duration": 5,
    "start_time": "2024-01-14T16:01:14.796Z"
   },
   {
    "duration": 1922,
    "start_time": "2024-01-14T16:02:31.959Z"
   },
   {
    "duration": 800,
    "start_time": "2024-01-14T16:02:33.882Z"
   },
   {
    "duration": 30,
    "start_time": "2024-01-14T16:02:34.684Z"
   },
   {
    "duration": 12,
    "start_time": "2024-01-14T16:02:34.715Z"
   },
   {
    "duration": 35,
    "start_time": "2024-01-14T16:02:34.729Z"
   },
   {
    "duration": 100,
    "start_time": "2024-01-14T16:02:34.765Z"
   },
   {
    "duration": 284,
    "start_time": "2024-01-14T16:02:34.866Z"
   },
   {
    "duration": 3,
    "start_time": "2024-01-14T16:02:35.152Z"
   },
   {
    "duration": 5,
    "start_time": "2024-01-14T16:02:35.156Z"
   },
   {
    "duration": 17,
    "start_time": "2024-01-14T16:02:35.163Z"
   },
   {
    "duration": 25,
    "start_time": "2024-01-14T16:02:35.181Z"
   },
   {
    "duration": 7,
    "start_time": "2024-01-14T16:02:35.207Z"
   },
   {
    "duration": 8,
    "start_time": "2024-01-14T16:02:35.215Z"
   },
   {
    "duration": 5,
    "start_time": "2024-01-14T16:02:35.225Z"
   },
   {
    "duration": 2018,
    "start_time": "2024-01-14T16:02:35.231Z"
   },
   {
    "duration": 7,
    "start_time": "2024-01-14T16:02:37.251Z"
   },
   {
    "duration": 77746,
    "start_time": "2024-01-14T16:02:37.259Z"
   },
   {
    "duration": 10,
    "start_time": "2024-01-14T16:03:55.010Z"
   },
   {
    "duration": 13,
    "start_time": "2024-01-14T16:03:55.022Z"
   },
   {
    "duration": 9,
    "start_time": "2024-01-14T16:03:55.037Z"
   },
   {
    "duration": 30,
    "start_time": "2024-01-14T16:03:55.047Z"
   },
   {
    "duration": 6,
    "start_time": "2024-01-14T16:03:55.079Z"
   },
   {
    "duration": 13,
    "start_time": "2024-01-14T16:03:55.087Z"
   },
   {
    "duration": 333,
    "start_time": "2024-01-14T16:03:55.102Z"
   },
   {
    "duration": 0,
    "start_time": "2024-01-14T16:03:55.436Z"
   },
   {
    "duration": 68,
    "start_time": "2024-01-14T16:05:40.818Z"
   },
   {
    "duration": 10,
    "start_time": "2024-01-14T16:05:49.105Z"
   },
   {
    "duration": 51,
    "start_time": "2024-01-14T16:06:01.189Z"
   },
   {
    "duration": 7,
    "start_time": "2024-01-14T16:06:02.538Z"
   },
   {
    "duration": 4,
    "start_time": "2024-01-14T16:06:10.663Z"
   },
   {
    "duration": 224,
    "start_time": "2024-01-14T16:06:11.533Z"
   },
   {
    "duration": 7,
    "start_time": "2024-01-14T16:06:33.081Z"
   },
   {
    "duration": 8,
    "start_time": "2024-01-14T16:06:40.396Z"
   },
   {
    "duration": 4,
    "start_time": "2024-01-14T16:06:43.941Z"
   },
   {
    "duration": 5,
    "start_time": "2024-01-14T16:06:48.710Z"
   },
   {
    "duration": 9,
    "start_time": "2024-01-14T16:07:03.052Z"
   },
   {
    "duration": 9,
    "start_time": "2024-01-14T16:07:10.804Z"
   },
   {
    "duration": 4,
    "start_time": "2024-01-14T16:07:58.020Z"
   },
   {
    "duration": 10,
    "start_time": "2024-01-14T16:08:07.470Z"
   },
   {
    "duration": 12,
    "start_time": "2024-01-14T16:08:21.762Z"
   },
   {
    "duration": 2,
    "start_time": "2024-01-14T16:08:22.642Z"
   },
   {
    "duration": 58,
    "start_time": "2024-01-14T16:08:22.990Z"
   },
   {
    "duration": 7,
    "start_time": "2024-01-14T16:08:24.100Z"
   },
   {
    "duration": 4,
    "start_time": "2024-01-14T16:08:28.018Z"
   },
   {
    "duration": 4,
    "start_time": "2024-01-14T16:08:34.505Z"
   },
   {
    "duration": 4,
    "start_time": "2024-01-14T16:08:40.887Z"
   },
   {
    "duration": 132,
    "start_time": "2024-01-14T16:08:41.395Z"
   },
   {
    "duration": 4,
    "start_time": "2024-01-14T16:12:09.312Z"
   },
   {
    "duration": 13,
    "start_time": "2024-01-14T16:12:11.222Z"
   },
   {
    "duration": 4,
    "start_time": "2024-01-14T16:12:36.958Z"
   },
   {
    "duration": 19,
    "start_time": "2024-01-14T16:12:37.610Z"
   },
   {
    "duration": 1783,
    "start_time": "2024-01-14T16:13:05.805Z"
   },
   {
    "duration": 815,
    "start_time": "2024-01-14T16:13:07.590Z"
   },
   {
    "duration": 28,
    "start_time": "2024-01-14T16:13:08.407Z"
   },
   {
    "duration": 12,
    "start_time": "2024-01-14T16:13:08.437Z"
   },
   {
    "duration": 16,
    "start_time": "2024-01-14T16:13:08.452Z"
   },
   {
    "duration": 132,
    "start_time": "2024-01-14T16:13:08.470Z"
   },
   {
    "duration": 274,
    "start_time": "2024-01-14T16:13:08.604Z"
   },
   {
    "duration": 2,
    "start_time": "2024-01-14T16:13:08.881Z"
   },
   {
    "duration": 8,
    "start_time": "2024-01-14T16:13:08.884Z"
   },
   {
    "duration": 11,
    "start_time": "2024-01-14T16:13:08.893Z"
   },
   {
    "duration": 6,
    "start_time": "2024-01-14T16:13:08.911Z"
   },
   {
    "duration": 4,
    "start_time": "2024-01-14T16:13:08.918Z"
   },
   {
    "duration": 11,
    "start_time": "2024-01-14T16:13:08.923Z"
   },
   {
    "duration": 17,
    "start_time": "2024-01-14T16:13:08.936Z"
   },
   {
    "duration": 2014,
    "start_time": "2024-01-14T16:13:08.954Z"
   },
   {
    "duration": 7,
    "start_time": "2024-01-14T16:13:10.969Z"
   },
   {
    "duration": 9,
    "start_time": "2024-01-14T16:13:10.977Z"
   },
   {
    "duration": 14,
    "start_time": "2024-01-14T16:13:10.987Z"
   },
   {
    "duration": 9,
    "start_time": "2024-01-14T16:13:11.011Z"
   },
   {
    "duration": 3,
    "start_time": "2024-01-14T16:13:11.021Z"
   },
   {
    "duration": 51,
    "start_time": "2024-01-14T16:13:11.025Z"
   },
   {
    "duration": 7,
    "start_time": "2024-01-14T16:13:11.078Z"
   },
   {
    "duration": 4,
    "start_time": "2024-01-14T16:13:11.111Z"
   },
   {
    "duration": 130,
    "start_time": "2024-01-14T16:13:11.117Z"
   },
   {
    "duration": 0,
    "start_time": "2024-01-14T16:13:11.249Z"
   },
   {
    "duration": 3,
    "start_time": "2024-01-14T16:13:33.348Z"
   },
   {
    "duration": 13,
    "start_time": "2024-01-14T16:13:34.004Z"
   },
   {
    "duration": 5,
    "start_time": "2024-01-14T16:15:39.641Z"
   },
   {
    "duration": 3,
    "start_time": "2024-01-14T16:16:47.956Z"
   },
   {
    "duration": 3,
    "start_time": "2024-01-14T16:16:48.463Z"
   },
   {
    "duration": 1324,
    "start_time": "2024-01-14T16:16:48.817Z"
   },
   {
    "duration": 7,
    "start_time": "2024-01-14T16:16:50.143Z"
   },
   {
    "duration": 525,
    "start_time": "2024-01-14T16:16:50.151Z"
   },
   {
    "duration": 4,
    "start_time": "2024-01-14T16:17:22.577Z"
   },
   {
    "duration": 3,
    "start_time": "2024-01-14T16:17:23.114Z"
   },
   {
    "duration": 1298,
    "start_time": "2024-01-14T16:17:23.434Z"
   },
   {
    "duration": 6,
    "start_time": "2024-01-14T16:17:24.733Z"
   },
   {
    "duration": 77307,
    "start_time": "2024-01-14T16:17:24.741Z"
   },
   {
    "duration": 11,
    "start_time": "2024-01-14T16:18:45.339Z"
   },
   {
    "duration": 13,
    "start_time": "2024-01-14T16:18:51.258Z"
   },
   {
    "duration": 2,
    "start_time": "2024-01-14T16:18:51.571Z"
   },
   {
    "duration": 64,
    "start_time": "2024-01-14T16:18:51.779Z"
   },
   {
    "duration": 7,
    "start_time": "2024-01-14T16:18:52.236Z"
   },
   {
    "duration": 4,
    "start_time": "2024-01-14T16:18:53.408Z"
   },
   {
    "duration": 28,
    "start_time": "2024-01-14T16:18:53.695Z"
   },
   {
    "duration": 3,
    "start_time": "2024-01-14T16:18:54.490Z"
   },
   {
    "duration": 6,
    "start_time": "2024-01-14T16:19:08.923Z"
   },
   {
    "duration": 3,
    "start_time": "2024-01-14T16:19:13.844Z"
   },
   {
    "duration": 3,
    "start_time": "2024-01-14T16:19:18.310Z"
   },
   {
    "duration": 4,
    "start_time": "2024-01-14T16:19:22.586Z"
   },
   {
    "duration": 64413,
    "start_time": "2024-01-14T16:19:29.926Z"
   },
   {
    "duration": 7,
    "start_time": "2024-01-14T16:20:34.341Z"
   },
   {
    "duration": 39,
    "start_time": "2024-01-14T16:20:34.349Z"
   },
   {
    "duration": 76,
    "start_time": "2024-01-14T16:20:34.390Z"
   },
   {
    "duration": 4,
    "start_time": "2024-01-14T16:20:34.467Z"
   },
   {
    "duration": 4,
    "start_time": "2024-01-14T16:20:34.472Z"
   },
   {
    "duration": 573235,
    "start_time": "2024-01-14T16:20:34.477Z"
   },
   {
    "duration": 2157,
    "start_time": "2024-01-15T14:06:58.206Z"
   },
   {
    "duration": 2385,
    "start_time": "2024-01-15T14:07:00.365Z"
   },
   {
    "duration": 38,
    "start_time": "2024-01-15T14:07:02.752Z"
   },
   {
    "duration": 15,
    "start_time": "2024-01-15T14:07:02.793Z"
   },
   {
    "duration": 19,
    "start_time": "2024-01-15T14:07:02.809Z"
   },
   {
    "duration": 119,
    "start_time": "2024-01-15T14:07:02.830Z"
   },
   {
    "duration": 304,
    "start_time": "2024-01-15T14:07:02.951Z"
   },
   {
    "duration": 3,
    "start_time": "2024-01-15T14:07:03.258Z"
   },
   {
    "duration": 4,
    "start_time": "2024-01-15T14:07:03.262Z"
   },
   {
    "duration": 11,
    "start_time": "2024-01-15T14:07:03.269Z"
   },
   {
    "duration": 11,
    "start_time": "2024-01-15T14:07:03.283Z"
   },
   {
    "duration": 4,
    "start_time": "2024-01-15T14:07:03.316Z"
   },
   {
    "duration": 8,
    "start_time": "2024-01-15T14:07:03.322Z"
   },
   {
    "duration": 4,
    "start_time": "2024-01-15T14:07:03.332Z"
   },
   {
    "duration": 13,
    "start_time": "2024-01-15T14:07:03.337Z"
   },
   {
    "duration": 2224,
    "start_time": "2024-01-15T14:07:03.351Z"
   },
   {
    "duration": 7,
    "start_time": "2024-01-15T14:07:05.577Z"
   },
   {
    "duration": 1907,
    "start_time": "2024-01-15T14:07:27.038Z"
   },
   {
    "duration": 888,
    "start_time": "2024-01-15T14:07:28.948Z"
   },
   {
    "duration": 36,
    "start_time": "2024-01-15T14:07:29.838Z"
   },
   {
    "duration": 64,
    "start_time": "2024-01-15T14:07:29.875Z"
   },
   {
    "duration": 28,
    "start_time": "2024-01-15T14:07:29.942Z"
   },
   {
    "duration": 121,
    "start_time": "2024-01-15T14:07:29.972Z"
   },
   {
    "duration": 309,
    "start_time": "2024-01-15T14:07:30.094Z"
   },
   {
    "duration": 2,
    "start_time": "2024-01-15T14:07:30.406Z"
   },
   {
    "duration": 28,
    "start_time": "2024-01-15T14:07:30.415Z"
   },
   {
    "duration": 43,
    "start_time": "2024-01-15T14:07:30.445Z"
   },
   {
    "duration": 29,
    "start_time": "2024-01-15T14:07:30.490Z"
   },
   {
    "duration": 28,
    "start_time": "2024-01-15T14:07:30.521Z"
   },
   {
    "duration": 74,
    "start_time": "2024-01-15T14:07:30.551Z"
   },
   {
    "duration": 67,
    "start_time": "2024-01-15T14:07:30.628Z"
   },
   {
    "duration": 31,
    "start_time": "2024-01-15T14:07:30.698Z"
   },
   {
    "duration": 2232,
    "start_time": "2024-01-15T14:07:30.730Z"
   },
   {
    "duration": 8,
    "start_time": "2024-01-15T14:07:32.963Z"
   },
   {
    "duration": 85093,
    "start_time": "2024-01-15T14:07:32.972Z"
   },
   {
    "duration": 12,
    "start_time": "2024-01-15T14:08:58.068Z"
   },
   {
    "duration": 107,
    "start_time": "2024-01-15T14:08:58.083Z"
   },
   {
    "duration": 0,
    "start_time": "2024-01-15T14:08:58.192Z"
   },
   {
    "duration": 0,
    "start_time": "2024-01-15T14:08:58.194Z"
   },
   {
    "duration": 0,
    "start_time": "2024-01-15T14:08:58.195Z"
   },
   {
    "duration": 0,
    "start_time": "2024-01-15T14:08:58.197Z"
   },
   {
    "duration": 0,
    "start_time": "2024-01-15T14:08:58.199Z"
   },
   {
    "duration": 0,
    "start_time": "2024-01-15T14:08:58.201Z"
   },
   {
    "duration": 0,
    "start_time": "2024-01-15T14:08:58.203Z"
   },
   {
    "duration": 0,
    "start_time": "2024-01-15T14:08:58.204Z"
   },
   {
    "duration": 0,
    "start_time": "2024-01-15T14:08:58.206Z"
   },
   {
    "duration": 0,
    "start_time": "2024-01-15T14:08:58.207Z"
   },
   {
    "duration": 0,
    "start_time": "2024-01-15T14:08:58.209Z"
   },
   {
    "duration": 0,
    "start_time": "2024-01-15T14:08:58.210Z"
   },
   {
    "duration": 0,
    "start_time": "2024-01-15T14:08:58.212Z"
   },
   {
    "duration": 0,
    "start_time": "2024-01-15T14:08:58.213Z"
   },
   {
    "duration": 0,
    "start_time": "2024-01-15T14:08:58.215Z"
   },
   {
    "duration": 0,
    "start_time": "2024-01-15T14:08:58.217Z"
   },
   {
    "duration": 0,
    "start_time": "2024-01-15T14:08:58.218Z"
   },
   {
    "duration": 0,
    "start_time": "2024-01-15T14:08:58.220Z"
   },
   {
    "duration": 11,
    "start_time": "2024-01-15T14:09:04.646Z"
   },
   {
    "duration": 4,
    "start_time": "2024-01-15T14:09:05.701Z"
   },
   {
    "duration": 20,
    "start_time": "2024-01-15T14:09:06.770Z"
   },
   {
    "duration": 7,
    "start_time": "2024-01-15T14:09:07.512Z"
   },
   {
    "duration": 26,
    "start_time": "2024-01-15T14:09:35.090Z"
   },
   {
    "duration": 9,
    "start_time": "2024-01-15T14:09:35.938Z"
   },
   {
    "duration": 23,
    "start_time": "2024-01-15T14:09:44.457Z"
   },
   {
    "duration": 8,
    "start_time": "2024-01-15T14:09:44.747Z"
   },
   {
    "duration": 5,
    "start_time": "2024-01-15T14:10:06.252Z"
   },
   {
    "duration": 133,
    "start_time": "2024-01-15T14:10:09.154Z"
   },
   {
    "duration": 6,
    "start_time": "2024-01-15T14:13:13.158Z"
   },
   {
    "duration": 3,
    "start_time": "2024-01-15T14:13:19.997Z"
   },
   {
    "duration": 5,
    "start_time": "2024-01-15T14:13:23.030Z"
   },
   {
    "duration": 2,
    "start_time": "2024-01-15T14:13:24.329Z"
   },
   {
    "duration": 3,
    "start_time": "2024-01-15T14:13:24.709Z"
   },
   {
    "duration": 4,
    "start_time": "2024-01-15T14:13:25.776Z"
   },
   {
    "duration": 4,
    "start_time": "2024-01-15T14:13:26.196Z"
   },
   {
    "duration": 1373,
    "start_time": "2024-01-15T14:13:26.773Z"
   },
   {
    "duration": 8,
    "start_time": "2024-01-15T14:13:29.193Z"
   },
   {
    "duration": 84395,
    "start_time": "2024-01-15T14:13:35.962Z"
   },
   {
    "duration": 10,
    "start_time": "2024-01-15T14:15:00.360Z"
   },
   {
    "duration": 32,
    "start_time": "2024-01-15T14:15:00.372Z"
   },
   {
    "duration": 51,
    "start_time": "2024-01-15T14:15:00.406Z"
   },
   {
    "duration": 105,
    "start_time": "2024-01-15T14:15:00.459Z"
   },
   {
    "duration": 23,
    "start_time": "2024-01-15T14:15:00.566Z"
   },
   {
    "duration": 32,
    "start_time": "2024-01-15T14:15:00.591Z"
   },
   {
    "duration": 34,
    "start_time": "2024-01-15T14:15:00.624Z"
   },
   {
    "duration": 8,
    "start_time": "2024-01-15T14:15:50.685Z"
   },
   {
    "duration": 7,
    "start_time": "2024-01-15T14:15:55.660Z"
   },
   {
    "duration": 4,
    "start_time": "2024-01-15T14:17:09.179Z"
   },
   {
    "duration": 70089,
    "start_time": "2024-01-15T14:17:14.223Z"
   },
   {
    "duration": 7,
    "start_time": "2024-01-15T14:18:24.314Z"
   },
   {
    "duration": 14,
    "start_time": "2024-01-15T14:18:38.034Z"
   },
   {
    "duration": 3,
    "start_time": "2024-01-15T14:18:39.759Z"
   },
   {
    "duration": 51,
    "start_time": "2024-01-15T14:18:40.126Z"
   },
   {
    "duration": 8,
    "start_time": "2024-01-15T14:18:40.755Z"
   },
   {
    "duration": 4,
    "start_time": "2024-01-15T14:18:42.421Z"
   },
   {
    "duration": 15,
    "start_time": "2024-01-15T14:18:43.123Z"
   },
   {
    "duration": 1956,
    "start_time": "2024-01-15T14:20:14.860Z"
   },
   {
    "duration": 896,
    "start_time": "2024-01-15T14:20:16.819Z"
   },
   {
    "duration": 34,
    "start_time": "2024-01-15T14:20:17.716Z"
   },
   {
    "duration": 15,
    "start_time": "2024-01-15T14:20:17.752Z"
   },
   {
    "duration": 14,
    "start_time": "2024-01-15T14:20:17.770Z"
   },
   {
    "duration": 122,
    "start_time": "2024-01-15T14:20:17.786Z"
   },
   {
    "duration": 348,
    "start_time": "2024-01-15T14:20:17.915Z"
   },
   {
    "duration": 3,
    "start_time": "2024-01-15T14:20:18.266Z"
   },
   {
    "duration": 19,
    "start_time": "2024-01-15T14:20:18.270Z"
   },
   {
    "duration": 13,
    "start_time": "2024-01-15T14:20:18.291Z"
   },
   {
    "duration": 9,
    "start_time": "2024-01-15T14:20:18.306Z"
   },
   {
    "duration": 8,
    "start_time": "2024-01-15T14:20:18.317Z"
   },
   {
    "duration": 3,
    "start_time": "2024-01-15T14:20:18.327Z"
   },
   {
    "duration": 4,
    "start_time": "2024-01-15T14:20:18.333Z"
   },
   {
    "duration": 5,
    "start_time": "2024-01-15T14:20:18.338Z"
   },
   {
    "duration": 10,
    "start_time": "2024-01-15T14:20:18.347Z"
   },
   {
    "duration": 5,
    "start_time": "2024-01-15T14:20:18.359Z"
   },
   {
    "duration": 4,
    "start_time": "2024-01-15T14:20:18.366Z"
   },
   {
    "duration": 4,
    "start_time": "2024-01-15T14:20:18.372Z"
   },
   {
    "duration": 75779,
    "start_time": "2024-01-15T14:20:18.378Z"
   },
   {
    "duration": 8,
    "start_time": "2024-01-15T14:21:34.159Z"
   },
   {
    "duration": 61,
    "start_time": "2024-01-15T14:21:34.168Z"
   },
   {
    "duration": 71,
    "start_time": "2024-01-15T14:21:34.231Z"
   },
   {
    "duration": 11,
    "start_time": "2024-01-15T14:21:34.303Z"
   },
   {
    "duration": 5,
    "start_time": "2024-01-15T14:21:34.316Z"
   },
   {
    "duration": 411376,
    "start_time": "2024-01-15T14:21:34.322Z"
   },
   {
    "duration": 84157,
    "start_time": "2024-01-15T14:28:59.698Z"
   },
   {
    "duration": 2046,
    "start_time": "2024-01-15T14:30:38.159Z"
   },
   {
    "duration": 952,
    "start_time": "2024-01-15T14:30:40.207Z"
   },
   {
    "duration": 33,
    "start_time": "2024-01-15T14:30:41.161Z"
   },
   {
    "duration": 23,
    "start_time": "2024-01-15T14:30:41.196Z"
   },
   {
    "duration": 29,
    "start_time": "2024-01-15T14:30:41.221Z"
   },
   {
    "duration": 123,
    "start_time": "2024-01-15T14:30:41.252Z"
   },
   {
    "duration": 306,
    "start_time": "2024-01-15T14:30:41.377Z"
   },
   {
    "duration": 3,
    "start_time": "2024-01-15T14:30:41.686Z"
   },
   {
    "duration": 8,
    "start_time": "2024-01-15T14:30:41.691Z"
   },
   {
    "duration": 23,
    "start_time": "2024-01-15T14:30:41.701Z"
   },
   {
    "duration": 14,
    "start_time": "2024-01-15T14:30:41.725Z"
   },
   {
    "duration": 10,
    "start_time": "2024-01-15T14:30:41.741Z"
   },
   {
    "duration": 3,
    "start_time": "2024-01-15T14:30:41.753Z"
   },
   {
    "duration": 3,
    "start_time": "2024-01-15T14:30:41.759Z"
   },
   {
    "duration": 4,
    "start_time": "2024-01-15T14:30:41.763Z"
   },
   {
    "duration": 39,
    "start_time": "2024-01-15T14:30:41.768Z"
   },
   {
    "duration": 17,
    "start_time": "2024-01-15T14:30:41.808Z"
   },
   {
    "duration": 5,
    "start_time": "2024-01-15T14:30:41.827Z"
   },
   {
    "duration": 6,
    "start_time": "2024-01-15T14:30:41.833Z"
   },
   {
    "duration": 77275,
    "start_time": "2024-01-15T14:30:41.840Z"
   },
   {
    "duration": 8,
    "start_time": "2024-01-15T14:31:59.117Z"
   },
   {
    "duration": 55,
    "start_time": "2024-01-15T14:31:59.126Z"
   },
   {
    "duration": 72,
    "start_time": "2024-01-15T14:31:59.183Z"
   },
   {
    "duration": 4,
    "start_time": "2024-01-15T14:31:59.257Z"
   },
   {
    "duration": 7,
    "start_time": "2024-01-15T14:31:59.262Z"
   },
   {
    "duration": 637846,
    "start_time": "2024-01-15T14:31:59.270Z"
   },
   {
    "duration": 5,
    "start_time": "2024-01-15T14:48:11.341Z"
   },
   {
    "duration": 3,
    "start_time": "2024-01-15T14:48:12.997Z"
   },
   {
    "duration": 2345,
    "start_time": "2024-01-15T14:48:16.174Z"
   },
   {
    "duration": 4,
    "start_time": "2024-01-15T14:48:18.521Z"
   },
   {
    "duration": 87746,
    "start_time": "2024-01-15T14:48:40.847Z"
   },
   {
    "duration": 44,
    "start_time": "2024-01-15T14:50:08.594Z"
   },
   {
    "duration": 16,
    "start_time": "2024-01-15T14:50:17.561Z"
   },
   {
    "duration": 3,
    "start_time": "2024-01-15T14:50:18.180Z"
   },
   {
    "duration": 47,
    "start_time": "2024-01-15T14:50:18.660Z"
   },
   {
    "duration": 8,
    "start_time": "2024-01-15T14:50:19.028Z"
   },
   {
    "duration": 5,
    "start_time": "2024-01-15T14:50:21.715Z"
   },
   {
    "duration": 271,
    "start_time": "2024-01-15T14:50:22.382Z"
   },
   {
    "duration": 4,
    "start_time": "2024-01-15T14:50:41.942Z"
   },
   {
    "duration": 109,
    "start_time": "2024-01-15T14:50:42.296Z"
   },
   {
    "duration": 2029,
    "start_time": "2024-01-15T14:50:53.140Z"
   },
   {
    "duration": 944,
    "start_time": "2024-01-15T14:50:55.171Z"
   },
   {
    "duration": 32,
    "start_time": "2024-01-15T14:50:56.117Z"
   },
   {
    "duration": 18,
    "start_time": "2024-01-15T14:50:56.150Z"
   },
   {
    "duration": 26,
    "start_time": "2024-01-15T14:50:56.170Z"
   },
   {
    "duration": 117,
    "start_time": "2024-01-15T14:50:56.197Z"
   },
   {
    "duration": 299,
    "start_time": "2024-01-15T14:50:56.316Z"
   },
   {
    "duration": 2,
    "start_time": "2024-01-15T14:50:56.618Z"
   },
   {
    "duration": 34,
    "start_time": "2024-01-15T14:50:56.622Z"
   },
   {
    "duration": 23,
    "start_time": "2024-01-15T14:50:56.658Z"
   },
   {
    "duration": 33,
    "start_time": "2024-01-15T14:50:56.683Z"
   },
   {
    "duration": 16,
    "start_time": "2024-01-15T14:50:56.717Z"
   },
   {
    "duration": 7,
    "start_time": "2024-01-15T14:50:56.735Z"
   },
   {
    "duration": 4,
    "start_time": "2024-01-15T14:50:56.745Z"
   },
   {
    "duration": 11,
    "start_time": "2024-01-15T14:50:56.751Z"
   },
   {
    "duration": 2231,
    "start_time": "2024-01-15T14:50:56.764Z"
   },
   {
    "duration": 4,
    "start_time": "2024-01-15T14:50:58.997Z"
   },
   {
    "duration": 572,
    "start_time": "2024-01-15T14:50:59.003Z"
   },
   {
    "duration": 11,
    "start_time": "2024-01-15T14:50:59.577Z"
   },
   {
    "duration": 23,
    "start_time": "2024-01-15T14:50:59.589Z"
   },
   {
    "duration": 6,
    "start_time": "2024-01-15T14:50:59.614Z"
   },
   {
    "duration": 33,
    "start_time": "2024-01-15T14:50:59.622Z"
   },
   {
    "duration": 7,
    "start_time": "2024-01-15T14:50:59.657Z"
   },
   {
    "duration": 4,
    "start_time": "2024-01-15T14:50:59.666Z"
   },
   {
    "duration": 111,
    "start_time": "2024-01-15T14:50:59.672Z"
   },
   {
    "duration": 3,
    "start_time": "2024-01-15T14:50:59.785Z"
   },
   {
    "duration": 9,
    "start_time": "2024-01-15T14:50:59.789Z"
   },
   {
    "duration": 8,
    "start_time": "2024-01-15T14:50:59.800Z"
   },
   {
    "duration": 7,
    "start_time": "2024-01-15T14:50:59.810Z"
   },
   {
    "duration": 9,
    "start_time": "2024-01-15T14:50:59.818Z"
   },
   {
    "duration": 49810,
    "start_time": "2024-01-15T14:50:59.828Z"
   },
   {
    "duration": 0,
    "start_time": "2024-01-15T14:51:49.640Z"
   },
   {
    "duration": 0,
    "start_time": "2024-01-15T14:51:49.641Z"
   },
   {
    "duration": 0,
    "start_time": "2024-01-15T14:51:49.643Z"
   },
   {
    "duration": 0,
    "start_time": "2024-01-15T14:51:49.645Z"
   },
   {
    "duration": 0,
    "start_time": "2024-01-15T14:51:49.646Z"
   },
   {
    "duration": 1,
    "start_time": "2024-01-15T14:51:49.647Z"
   },
   {
    "duration": 0,
    "start_time": "2024-01-15T14:51:49.649Z"
   },
   {
    "duration": 1993,
    "start_time": "2024-01-15T14:52:06.189Z"
   },
   {
    "duration": 932,
    "start_time": "2024-01-15T14:52:08.184Z"
   },
   {
    "duration": 32,
    "start_time": "2024-01-15T14:52:09.118Z"
   },
   {
    "duration": 19,
    "start_time": "2024-01-15T14:52:09.152Z"
   },
   {
    "duration": 15,
    "start_time": "2024-01-15T14:52:09.174Z"
   },
   {
    "duration": 128,
    "start_time": "2024-01-15T14:52:09.190Z"
   },
   {
    "duration": 312,
    "start_time": "2024-01-15T14:52:09.320Z"
   },
   {
    "duration": 3,
    "start_time": "2024-01-15T14:52:09.635Z"
   },
   {
    "duration": 9,
    "start_time": "2024-01-15T14:52:09.639Z"
   },
   {
    "duration": 13,
    "start_time": "2024-01-15T14:52:09.650Z"
   },
   {
    "duration": 9,
    "start_time": "2024-01-15T14:52:09.664Z"
   },
   {
    "duration": 12,
    "start_time": "2024-01-15T14:52:09.675Z"
   },
   {
    "duration": 5,
    "start_time": "2024-01-15T14:52:09.689Z"
   },
   {
    "duration": 4,
    "start_time": "2024-01-15T14:52:09.714Z"
   },
   {
    "duration": 10,
    "start_time": "2024-01-15T14:52:09.720Z"
   },
   {
    "duration": 9,
    "start_time": "2024-01-15T14:52:09.732Z"
   },
   {
    "duration": 2301,
    "start_time": "2024-01-15T14:52:09.743Z"
   },
   {
    "duration": 4,
    "start_time": "2024-01-15T14:52:12.046Z"
   },
   {
    "duration": 89410,
    "start_time": "2024-01-15T14:52:12.052Z"
   },
   {
    "duration": 35,
    "start_time": "2024-01-15T14:53:41.464Z"
   },
   {
    "duration": 26,
    "start_time": "2024-01-15T14:53:41.501Z"
   },
   {
    "duration": 14,
    "start_time": "2024-01-15T14:53:41.529Z"
   },
   {
    "duration": 60,
    "start_time": "2024-01-15T14:53:41.545Z"
   },
   {
    "duration": 9,
    "start_time": "2024-01-15T14:53:41.614Z"
   },
   {
    "duration": 70,
    "start_time": "2024-01-15T14:53:41.624Z"
   },
   {
    "duration": 0,
    "start_time": "2024-01-15T14:53:41.696Z"
   },
   {
    "duration": 0,
    "start_time": "2024-01-15T14:53:41.697Z"
   },
   {
    "duration": 0,
    "start_time": "2024-01-15T14:53:41.698Z"
   },
   {
    "duration": 0,
    "start_time": "2024-01-15T14:53:41.699Z"
   },
   {
    "duration": 0,
    "start_time": "2024-01-15T14:53:41.700Z"
   },
   {
    "duration": 0,
    "start_time": "2024-01-15T14:53:41.701Z"
   },
   {
    "duration": 0,
    "start_time": "2024-01-15T14:53:41.702Z"
   },
   {
    "duration": 0,
    "start_time": "2024-01-15T14:53:41.703Z"
   },
   {
    "duration": 0,
    "start_time": "2024-01-15T14:53:41.704Z"
   },
   {
    "duration": 0,
    "start_time": "2024-01-15T14:53:41.705Z"
   },
   {
    "duration": 0,
    "start_time": "2024-01-15T14:53:41.707Z"
   },
   {
    "duration": 0,
    "start_time": "2024-01-15T14:53:41.708Z"
   },
   {
    "duration": 0,
    "start_time": "2024-01-15T14:53:41.709Z"
   },
   {
    "duration": 0,
    "start_time": "2024-01-15T14:53:41.710Z"
   },
   {
    "duration": 5,
    "start_time": "2024-01-15T14:54:14.366Z"
   },
   {
    "duration": 252,
    "start_time": "2024-01-15T14:54:15.335Z"
   },
   {
    "duration": 4,
    "start_time": "2024-01-15T14:55:26.090Z"
   },
   {
    "duration": 2069,
    "start_time": "2024-01-15T14:55:29.502Z"
   },
   {
    "duration": 4,
    "start_time": "2024-01-15T14:55:33.126Z"
   },
   {
    "duration": 1942,
    "start_time": "2024-01-15T14:55:39.705Z"
   },
   {
    "duration": 903,
    "start_time": "2024-01-15T14:55:41.649Z"
   },
   {
    "duration": 39,
    "start_time": "2024-01-15T14:55:42.556Z"
   },
   {
    "duration": 24,
    "start_time": "2024-01-15T14:55:42.597Z"
   },
   {
    "duration": 20,
    "start_time": "2024-01-15T14:55:42.624Z"
   },
   {
    "duration": 140,
    "start_time": "2024-01-15T14:55:42.646Z"
   },
   {
    "duration": 331,
    "start_time": "2024-01-15T14:55:42.788Z"
   },
   {
    "duration": 3,
    "start_time": "2024-01-15T14:55:43.122Z"
   },
   {
    "duration": 4,
    "start_time": "2024-01-15T14:55:43.127Z"
   },
   {
    "duration": 15,
    "start_time": "2024-01-15T14:55:43.133Z"
   },
   {
    "duration": 7,
    "start_time": "2024-01-15T14:55:43.150Z"
   },
   {
    "duration": 7,
    "start_time": "2024-01-15T14:55:43.159Z"
   },
   {
    "duration": 21,
    "start_time": "2024-01-15T14:55:43.168Z"
   },
   {
    "duration": 23,
    "start_time": "2024-01-15T14:55:43.193Z"
   },
   {
    "duration": 13,
    "start_time": "2024-01-15T14:55:43.217Z"
   },
   {
    "duration": 4,
    "start_time": "2024-01-15T14:55:43.231Z"
   },
   {
    "duration": 2755,
    "start_time": "2024-01-15T14:55:43.237Z"
   },
   {
    "duration": 5,
    "start_time": "2024-01-15T14:55:45.993Z"
   },
   {
    "duration": 243660,
    "start_time": "2024-01-15T14:55:45.999Z"
   },
   {
    "duration": 37,
    "start_time": "2024-01-15T14:59:49.661Z"
   },
   {
    "duration": 24,
    "start_time": "2024-01-15T14:59:49.701Z"
   },
   {
    "duration": 7,
    "start_time": "2024-01-15T14:59:49.727Z"
   },
   {
    "duration": 64,
    "start_time": "2024-01-15T14:59:49.736Z"
   },
   {
    "duration": 17,
    "start_time": "2024-01-15T14:59:49.802Z"
   },
   {
    "duration": 71,
    "start_time": "2024-01-15T14:59:49.821Z"
   },
   {
    "duration": 0,
    "start_time": "2024-01-15T14:59:49.893Z"
   },
   {
    "duration": 0,
    "start_time": "2024-01-15T14:59:49.894Z"
   },
   {
    "duration": 0,
    "start_time": "2024-01-15T14:59:49.895Z"
   },
   {
    "duration": 0,
    "start_time": "2024-01-15T14:59:49.896Z"
   },
   {
    "duration": 0,
    "start_time": "2024-01-15T14:59:49.897Z"
   },
   {
    "duration": 0,
    "start_time": "2024-01-15T14:59:49.898Z"
   },
   {
    "duration": 0,
    "start_time": "2024-01-15T14:59:49.899Z"
   },
   {
    "duration": 0,
    "start_time": "2024-01-15T14:59:49.900Z"
   },
   {
    "duration": 0,
    "start_time": "2024-01-15T14:59:49.901Z"
   },
   {
    "duration": 0,
    "start_time": "2024-01-15T14:59:49.903Z"
   },
   {
    "duration": 0,
    "start_time": "2024-01-15T14:59:49.904Z"
   },
   {
    "duration": 0,
    "start_time": "2024-01-15T14:59:49.905Z"
   },
   {
    "duration": 0,
    "start_time": "2024-01-15T14:59:49.907Z"
   },
   {
    "duration": 0,
    "start_time": "2024-01-15T14:59:49.907Z"
   },
   {
    "duration": 3,
    "start_time": "2024-01-15T15:00:14.688Z"
   },
   {
    "duration": 3073,
    "start_time": "2024-01-15T15:00:15.125Z"
   },
   {
    "duration": 4,
    "start_time": "2024-01-15T15:00:18.201Z"
   },
   {
    "duration": 222736,
    "start_time": "2024-01-15T15:00:18.207Z"
   },
   {
    "duration": 11,
    "start_time": "2024-01-15T15:04:00.946Z"
   },
   {
    "duration": 1902,
    "start_time": "2024-01-15T15:06:07.699Z"
   },
   {
    "duration": 954,
    "start_time": "2024-01-15T15:06:09.604Z"
   },
   {
    "duration": 33,
    "start_time": "2024-01-15T15:06:10.559Z"
   },
   {
    "duration": 26,
    "start_time": "2024-01-15T15:06:10.594Z"
   },
   {
    "duration": 35,
    "start_time": "2024-01-15T15:06:10.622Z"
   },
   {
    "duration": 106,
    "start_time": "2024-01-15T15:06:10.658Z"
   },
   {
    "duration": 330,
    "start_time": "2024-01-15T15:06:10.766Z"
   },
   {
    "duration": 3,
    "start_time": "2024-01-15T15:06:11.098Z"
   },
   {
    "duration": 18,
    "start_time": "2024-01-15T15:06:11.103Z"
   },
   {
    "duration": 30,
    "start_time": "2024-01-15T15:06:11.122Z"
   },
   {
    "duration": 13,
    "start_time": "2024-01-15T15:06:11.153Z"
   },
   {
    "duration": 9,
    "start_time": "2024-01-15T15:06:11.167Z"
   },
   {
    "duration": 5,
    "start_time": "2024-01-15T15:06:11.178Z"
   },
   {
    "duration": 9,
    "start_time": "2024-01-15T15:06:11.186Z"
   },
   {
    "duration": 7,
    "start_time": "2024-01-15T15:06:11.196Z"
   },
   {
    "duration": 77899,
    "start_time": "2024-01-15T15:06:11.204Z"
   },
   {
    "duration": 13,
    "start_time": "2024-01-15T15:07:29.104Z"
   },
   {
    "duration": 21,
    "start_time": "2024-01-15T15:07:29.118Z"
   },
   {
    "duration": 6,
    "start_time": "2024-01-15T15:07:29.141Z"
   },
   {
    "duration": 28,
    "start_time": "2024-01-15T15:07:29.149Z"
   },
   {
    "duration": 9,
    "start_time": "2024-01-15T15:07:29.179Z"
   },
   {
    "duration": 75,
    "start_time": "2024-01-15T15:07:29.190Z"
   },
   {
    "duration": 0,
    "start_time": "2024-01-15T15:07:29.266Z"
   },
   {
    "duration": 0,
    "start_time": "2024-01-15T15:07:29.268Z"
   },
   {
    "duration": 0,
    "start_time": "2024-01-15T15:07:29.269Z"
   },
   {
    "duration": 0,
    "start_time": "2024-01-15T15:07:29.270Z"
   },
   {
    "duration": 0,
    "start_time": "2024-01-15T15:07:29.272Z"
   },
   {
    "duration": 0,
    "start_time": "2024-01-15T15:07:29.274Z"
   },
   {
    "duration": 0,
    "start_time": "2024-01-15T15:07:29.275Z"
   },
   {
    "duration": 0,
    "start_time": "2024-01-15T15:07:29.276Z"
   },
   {
    "duration": 0,
    "start_time": "2024-01-15T15:07:29.277Z"
   },
   {
    "duration": 0,
    "start_time": "2024-01-15T15:07:29.279Z"
   },
   {
    "duration": 0,
    "start_time": "2024-01-15T15:07:29.280Z"
   },
   {
    "duration": 0,
    "start_time": "2024-01-15T15:07:29.281Z"
   },
   {
    "duration": 0,
    "start_time": "2024-01-15T15:07:29.282Z"
   },
   {
    "duration": 0,
    "start_time": "2024-01-15T15:07:29.283Z"
   },
   {
    "duration": 4,
    "start_time": "2024-01-15T15:09:24.980Z"
   },
   {
    "duration": 237,
    "start_time": "2024-01-15T15:09:26.266Z"
   },
   {
    "duration": 5,
    "start_time": "2024-01-15T15:09:46.875Z"
   },
   {
    "duration": 89,
    "start_time": "2024-01-15T15:09:47.489Z"
   },
   {
    "duration": 4,
    "start_time": "2024-01-15T15:10:33.782Z"
   },
   {
    "duration": 4,
    "start_time": "2024-01-15T15:10:36.782Z"
   },
   {
    "duration": 3,
    "start_time": "2024-01-15T15:10:42.309Z"
   },
   {
    "duration": 104,
    "start_time": "2024-01-15T15:10:42.982Z"
   },
   {
    "duration": 4,
    "start_time": "2024-01-15T15:10:48.366Z"
   },
   {
    "duration": 88,
    "start_time": "2024-01-15T15:10:49.445Z"
   },
   {
    "duration": 1969,
    "start_time": "2024-01-15T15:13:29.150Z"
   },
   {
    "duration": 918,
    "start_time": "2024-01-15T15:13:31.121Z"
   },
   {
    "duration": 33,
    "start_time": "2024-01-15T15:13:32.041Z"
   },
   {
    "duration": 24,
    "start_time": "2024-01-15T15:13:32.076Z"
   },
   {
    "duration": 34,
    "start_time": "2024-01-15T15:13:32.102Z"
   },
   {
    "duration": 136,
    "start_time": "2024-01-15T15:13:32.138Z"
   },
   {
    "duration": 345,
    "start_time": "2024-01-15T15:13:32.276Z"
   },
   {
    "duration": 3,
    "start_time": "2024-01-15T15:13:32.623Z"
   },
   {
    "duration": 12,
    "start_time": "2024-01-15T15:13:32.627Z"
   },
   {
    "duration": 34,
    "start_time": "2024-01-15T15:13:32.640Z"
   },
   {
    "duration": 14,
    "start_time": "2024-01-15T15:13:32.676Z"
   },
   {
    "duration": 22,
    "start_time": "2024-01-15T15:13:32.693Z"
   },
   {
    "duration": 6,
    "start_time": "2024-01-15T15:13:32.717Z"
   },
   {
    "duration": 28,
    "start_time": "2024-01-15T15:13:32.726Z"
   },
   {
    "duration": 30,
    "start_time": "2024-01-15T15:13:32.756Z"
   },
   {
    "duration": 78651,
    "start_time": "2024-01-15T15:13:32.788Z"
   },
   {
    "duration": 7,
    "start_time": "2024-01-15T15:14:51.442Z"
   },
   {
    "duration": 29,
    "start_time": "2024-01-15T15:14:51.450Z"
   },
   {
    "duration": 8,
    "start_time": "2024-01-15T15:14:51.481Z"
   },
   {
    "duration": 27,
    "start_time": "2024-01-15T15:14:51.491Z"
   },
   {
    "duration": 7,
    "start_time": "2024-01-15T15:14:51.520Z"
   },
   {
    "duration": 5,
    "start_time": "2024-01-15T15:14:51.529Z"
   },
   {
    "duration": 12,
    "start_time": "2024-01-15T15:14:51.535Z"
   },
   {
    "duration": 240,
    "start_time": "2024-01-15T15:14:51.549Z"
   },
   {
    "duration": 3,
    "start_time": "2024-01-15T15:15:22.796Z"
   },
   {
    "duration": 24,
    "start_time": "2024-01-15T15:15:23.198Z"
   },
   {
    "duration": 9,
    "start_time": "2024-01-15T15:15:23.580Z"
   },
   {
    "duration": 2039,
    "start_time": "2024-01-15T15:16:42.998Z"
   },
   {
    "duration": 948,
    "start_time": "2024-01-15T15:16:45.040Z"
   },
   {
    "duration": 33,
    "start_time": "2024-01-15T15:16:45.991Z"
   },
   {
    "duration": 16,
    "start_time": "2024-01-15T15:16:46.027Z"
   },
   {
    "duration": 19,
    "start_time": "2024-01-15T15:16:46.045Z"
   },
   {
    "duration": 130,
    "start_time": "2024-01-15T15:16:46.066Z"
   },
   {
    "duration": 313,
    "start_time": "2024-01-15T15:16:46.198Z"
   },
   {
    "duration": 2,
    "start_time": "2024-01-15T15:16:46.514Z"
   },
   {
    "duration": 4,
    "start_time": "2024-01-15T15:16:46.518Z"
   },
   {
    "duration": 13,
    "start_time": "2024-01-15T15:16:46.523Z"
   },
   {
    "duration": 7,
    "start_time": "2024-01-15T15:16:46.537Z"
   },
   {
    "duration": 8,
    "start_time": "2024-01-15T15:16:46.546Z"
   },
   {
    "duration": 5,
    "start_time": "2024-01-15T15:16:46.558Z"
   },
   {
    "duration": 3,
    "start_time": "2024-01-15T15:16:46.564Z"
   },
   {
    "duration": 5,
    "start_time": "2024-01-15T15:16:46.569Z"
   },
   {
    "duration": 79106,
    "start_time": "2024-01-15T15:16:46.615Z"
   },
   {
    "duration": 8,
    "start_time": "2024-01-15T15:18:05.724Z"
   },
   {
    "duration": 57,
    "start_time": "2024-01-15T15:18:05.734Z"
   },
   {
    "duration": 3,
    "start_time": "2024-01-15T15:18:05.793Z"
   },
   {
    "duration": 70,
    "start_time": "2024-01-15T15:18:05.798Z"
   },
   {
    "duration": 8,
    "start_time": "2024-01-15T15:18:05.869Z"
   },
   {
    "duration": 7,
    "start_time": "2024-01-15T15:18:05.879Z"
   },
   {
    "duration": 6,
    "start_time": "2024-01-15T15:18:05.887Z"
   },
   {
    "duration": 231,
    "start_time": "2024-01-15T15:18:05.914Z"
   },
   {
    "duration": 5,
    "start_time": "2024-01-15T15:20:02.167Z"
   },
   {
    "duration": 50,
    "start_time": "2024-01-15T15:20:16.171Z"
   },
   {
    "duration": 9,
    "start_time": "2024-01-15T15:20:16.997Z"
   },
   {
    "duration": 2,
    "start_time": "2024-01-15T15:20:18.960Z"
   },
   {
    "duration": 51,
    "start_time": "2024-01-15T15:20:19.337Z"
   },
   {
    "duration": 8,
    "start_time": "2024-01-15T15:20:19.683Z"
   },
   {
    "duration": 4,
    "start_time": "2024-01-15T15:20:20.700Z"
   },
   {
    "duration": 3,
    "start_time": "2024-01-15T15:20:21.203Z"
   },
   {
    "duration": 7747,
    "start_time": "2024-01-15T15:20:21.928Z"
   },
   {
    "duration": 1947,
    "start_time": "2024-01-15T15:20:45.690Z"
   },
   {
    "duration": 1875,
    "start_time": "2024-01-15T15:20:47.639Z"
   },
   {
    "duration": 0,
    "start_time": "2024-01-15T15:20:49.516Z"
   },
   {
    "duration": 0,
    "start_time": "2024-01-15T15:20:49.517Z"
   },
   {
    "duration": 0,
    "start_time": "2024-01-15T15:20:49.518Z"
   },
   {
    "duration": 0,
    "start_time": "2024-01-15T15:20:49.520Z"
   },
   {
    "duration": 0,
    "start_time": "2024-01-15T15:20:49.521Z"
   },
   {
    "duration": 0,
    "start_time": "2024-01-15T15:20:49.522Z"
   },
   {
    "duration": 0,
    "start_time": "2024-01-15T15:20:49.523Z"
   },
   {
    "duration": 0,
    "start_time": "2024-01-15T15:20:49.524Z"
   },
   {
    "duration": 0,
    "start_time": "2024-01-15T15:20:49.526Z"
   },
   {
    "duration": 0,
    "start_time": "2024-01-15T15:20:49.527Z"
   },
   {
    "duration": 1,
    "start_time": "2024-01-15T15:20:49.527Z"
   },
   {
    "duration": 0,
    "start_time": "2024-01-15T15:20:49.529Z"
   },
   {
    "duration": 0,
    "start_time": "2024-01-15T15:20:49.530Z"
   },
   {
    "duration": 0,
    "start_time": "2024-01-15T15:20:49.531Z"
   },
   {
    "duration": 0,
    "start_time": "2024-01-15T15:20:49.532Z"
   },
   {
    "duration": 0,
    "start_time": "2024-01-15T15:20:49.533Z"
   },
   {
    "duration": 0,
    "start_time": "2024-01-15T15:20:49.534Z"
   },
   {
    "duration": 0,
    "start_time": "2024-01-15T15:20:49.535Z"
   },
   {
    "duration": 0,
    "start_time": "2024-01-15T15:20:49.536Z"
   },
   {
    "duration": 0,
    "start_time": "2024-01-15T15:20:49.537Z"
   },
   {
    "duration": 0,
    "start_time": "2024-01-15T15:20:49.538Z"
   },
   {
    "duration": 0,
    "start_time": "2024-01-15T15:20:49.539Z"
   },
   {
    "duration": 0,
    "start_time": "2024-01-15T15:20:49.540Z"
   },
   {
    "duration": 1865,
    "start_time": "2024-01-15T15:21:18.950Z"
   },
   {
    "duration": 944,
    "start_time": "2024-01-15T15:21:20.817Z"
   },
   {
    "duration": 35,
    "start_time": "2024-01-15T15:21:21.763Z"
   },
   {
    "duration": 24,
    "start_time": "2024-01-15T15:21:21.799Z"
   },
   {
    "duration": 16,
    "start_time": "2024-01-15T15:21:21.825Z"
   },
   {
    "duration": 132,
    "start_time": "2024-01-15T15:21:21.843Z"
   },
   {
    "duration": 339,
    "start_time": "2024-01-15T15:21:21.977Z"
   },
   {
    "duration": 3,
    "start_time": "2024-01-15T15:21:22.319Z"
   },
   {
    "duration": 8,
    "start_time": "2024-01-15T15:21:22.324Z"
   },
   {
    "duration": 12,
    "start_time": "2024-01-15T15:21:22.334Z"
   },
   {
    "duration": 8,
    "start_time": "2024-01-15T15:21:22.347Z"
   },
   {
    "duration": 19,
    "start_time": "2024-01-15T15:21:22.357Z"
   },
   {
    "duration": 8,
    "start_time": "2024-01-15T15:21:22.378Z"
   },
   {
    "duration": 12,
    "start_time": "2024-01-15T15:21:22.390Z"
   },
   {
    "duration": 12,
    "start_time": "2024-01-15T15:21:22.404Z"
   },
   {
    "duration": 77958,
    "start_time": "2024-01-15T15:21:22.418Z"
   },
   {
    "duration": 8,
    "start_time": "2024-01-15T15:22:40.378Z"
   },
   {
    "duration": 42,
    "start_time": "2024-01-15T15:22:40.387Z"
   },
   {
    "duration": 10,
    "start_time": "2024-01-15T15:22:40.430Z"
   },
   {
    "duration": 3,
    "start_time": "2024-01-15T15:22:40.442Z"
   },
   {
    "duration": 57,
    "start_time": "2024-01-15T15:22:40.447Z"
   },
   {
    "duration": 8,
    "start_time": "2024-01-15T15:22:40.515Z"
   },
   {
    "duration": 6,
    "start_time": "2024-01-15T15:22:40.525Z"
   },
   {
    "duration": 5,
    "start_time": "2024-01-15T15:22:40.533Z"
   },
   {
    "duration": 181039,
    "start_time": "2024-01-15T15:22:40.540Z"
   },
   {
    "duration": 1911,
    "start_time": "2024-01-15T15:25:47.763Z"
   },
   {
    "duration": 911,
    "start_time": "2024-01-15T15:25:49.676Z"
   },
   {
    "duration": 37,
    "start_time": "2024-01-15T15:25:50.591Z"
   },
   {
    "duration": 29,
    "start_time": "2024-01-15T15:25:50.631Z"
   },
   {
    "duration": 26,
    "start_time": "2024-01-15T15:25:50.662Z"
   },
   {
    "duration": 148,
    "start_time": "2024-01-15T15:25:50.690Z"
   },
   {
    "duration": 324,
    "start_time": "2024-01-15T15:25:50.840Z"
   },
   {
    "duration": 2,
    "start_time": "2024-01-15T15:25:51.167Z"
   },
   {
    "duration": 21,
    "start_time": "2024-01-15T15:25:51.171Z"
   },
   {
    "duration": 54,
    "start_time": "2024-01-15T15:25:51.194Z"
   },
   {
    "duration": 13,
    "start_time": "2024-01-15T15:25:51.250Z"
   },
   {
    "duration": 30,
    "start_time": "2024-01-15T15:25:51.265Z"
   },
   {
    "duration": 15,
    "start_time": "2024-01-15T15:25:51.299Z"
   },
   {
    "duration": 16,
    "start_time": "2024-01-15T15:25:51.316Z"
   },
   {
    "duration": 24,
    "start_time": "2024-01-15T15:25:51.334Z"
   },
   {
    "duration": 77391,
    "start_time": "2024-01-15T15:25:51.360Z"
   },
   {
    "duration": 7,
    "start_time": "2024-01-15T15:27:08.753Z"
   },
   {
    "duration": 34,
    "start_time": "2024-01-15T15:27:08.761Z"
   },
   {
    "duration": 9,
    "start_time": "2024-01-15T15:27:08.797Z"
   },
   {
    "duration": 7,
    "start_time": "2024-01-15T15:27:08.808Z"
   },
   {
    "duration": 46,
    "start_time": "2024-01-15T15:27:08.816Z"
   },
   {
    "duration": 8,
    "start_time": "2024-01-15T15:27:08.864Z"
   },
   {
    "duration": 16,
    "start_time": "2024-01-15T15:27:08.874Z"
   },
   {
    "duration": 7,
    "start_time": "2024-01-15T15:27:08.892Z"
   },
   {
    "duration": 622218,
    "start_time": "2024-01-15T15:27:08.900Z"
   },
   {
    "duration": 204,
    "start_time": "2024-01-15T15:39:35.095Z"
   },
   {
    "duration": 3,
    "start_time": "2024-01-15T15:39:52.286Z"
   },
   {
    "duration": 170935,
    "start_time": "2024-01-15T15:39:52.754Z"
   },
   {
    "duration": 88,
    "start_time": "2024-01-15T15:43:22.264Z"
   },
   {
    "duration": 27,
    "start_time": "2024-01-15T15:43:40.131Z"
   },
   {
    "duration": 2022,
    "start_time": "2024-01-15T15:58:28.724Z"
   },
   {
    "duration": 975,
    "start_time": "2024-01-15T15:58:30.748Z"
   },
   {
    "duration": 35,
    "start_time": "2024-01-15T15:58:31.724Z"
   },
   {
    "duration": 54,
    "start_time": "2024-01-15T15:58:31.761Z"
   },
   {
    "duration": 30,
    "start_time": "2024-01-15T15:58:31.818Z"
   },
   {
    "duration": 146,
    "start_time": "2024-01-15T15:58:31.850Z"
   },
   {
    "duration": 321,
    "start_time": "2024-01-15T15:58:31.997Z"
   },
   {
    "duration": 2,
    "start_time": "2024-01-15T15:58:32.321Z"
   },
   {
    "duration": 12,
    "start_time": "2024-01-15T15:58:32.325Z"
   },
   {
    "duration": 12,
    "start_time": "2024-01-15T15:58:32.339Z"
   },
   {
    "duration": 9,
    "start_time": "2024-01-15T15:58:32.352Z"
   },
   {
    "duration": 7,
    "start_time": "2024-01-15T15:58:32.363Z"
   },
   {
    "duration": 5,
    "start_time": "2024-01-15T15:58:32.371Z"
   },
   {
    "duration": 35,
    "start_time": "2024-01-15T15:58:32.380Z"
   },
   {
    "duration": 16,
    "start_time": "2024-01-15T15:58:32.417Z"
   },
   {
    "duration": 1918,
    "start_time": "2024-01-15T15:59:06.605Z"
   },
   {
    "duration": 904,
    "start_time": "2024-01-15T15:59:08.525Z"
   },
   {
    "duration": 31,
    "start_time": "2024-01-15T15:59:09.431Z"
   },
   {
    "duration": 15,
    "start_time": "2024-01-15T15:59:09.464Z"
   },
   {
    "duration": 44,
    "start_time": "2024-01-15T15:59:09.482Z"
   },
   {
    "duration": 127,
    "start_time": "2024-01-15T15:59:09.528Z"
   },
   {
    "duration": 331,
    "start_time": "2024-01-15T15:59:09.657Z"
   },
   {
    "duration": 3,
    "start_time": "2024-01-15T15:59:09.991Z"
   },
   {
    "duration": 28,
    "start_time": "2024-01-15T15:59:09.995Z"
   },
   {
    "duration": 39,
    "start_time": "2024-01-15T15:59:10.025Z"
   },
   {
    "duration": 15,
    "start_time": "2024-01-15T15:59:10.066Z"
   },
   {
    "duration": 8,
    "start_time": "2024-01-15T15:59:10.083Z"
   },
   {
    "duration": 5,
    "start_time": "2024-01-15T15:59:10.093Z"
   },
   {
    "duration": 7,
    "start_time": "2024-01-15T15:59:10.100Z"
   },
   {
    "duration": 4,
    "start_time": "2024-01-15T15:59:10.109Z"
   },
   {
    "duration": 78797,
    "start_time": "2024-01-15T15:59:10.115Z"
   },
   {
    "duration": 8,
    "start_time": "2024-01-15T16:00:28.915Z"
   },
   {
    "duration": 28,
    "start_time": "2024-01-15T16:00:28.925Z"
   },
   {
    "duration": 9,
    "start_time": "2024-01-15T16:00:28.954Z"
   },
   {
    "duration": 3,
    "start_time": "2024-01-15T16:00:28.964Z"
   },
   {
    "duration": 33,
    "start_time": "2024-01-15T16:00:28.969Z"
   },
   {
    "duration": 16,
    "start_time": "2024-01-15T16:00:29.004Z"
   },
   {
    "duration": 14,
    "start_time": "2024-01-15T16:00:29.022Z"
   },
   {
    "duration": 23,
    "start_time": "2024-01-15T16:00:29.038Z"
   },
   {
    "duration": 615559,
    "start_time": "2024-01-15T16:00:29.063Z"
   },
   {
    "duration": 4,
    "start_time": "2024-01-15T16:10:44.624Z"
   },
   {
    "duration": 169592,
    "start_time": "2024-01-15T16:10:44.629Z"
   },
   {
    "duration": 30,
    "start_time": "2024-01-15T16:13:34.223Z"
   },
   {
    "duration": 3083546,
    "start_time": "2024-01-15T16:13:34.255Z"
   },
   {
    "duration": 147,
    "start_time": "2024-01-15T17:04:57.803Z"
   },
   {
    "duration": 0,
    "start_time": "2024-01-15T17:04:57.951Z"
   },
   {
    "duration": 19,
    "start_time": "2024-01-15T17:57:36.883Z"
   },
   {
    "duration": 1338,
    "start_time": "2024-01-15T17:57:45.236Z"
   },
   {
    "duration": 3,
    "start_time": "2024-01-15T17:57:47.402Z"
   },
   {
    "duration": 141,
    "start_time": "2024-01-17T13:55:15.360Z"
   },
   {
    "duration": 43,
    "start_time": "2024-01-17T14:21:03.905Z"
   },
   {
    "duration": 1974,
    "start_time": "2024-01-17T14:21:14.939Z"
   },
   {
    "duration": 2281,
    "start_time": "2024-01-17T14:21:16.915Z"
   },
   {
    "duration": 28,
    "start_time": "2024-01-17T14:21:19.198Z"
   },
   {
    "duration": 13,
    "start_time": "2024-01-17T14:21:19.228Z"
   },
   {
    "duration": 22,
    "start_time": "2024-01-17T14:21:19.243Z"
   },
   {
    "duration": 107,
    "start_time": "2024-01-17T14:21:19.267Z"
   },
   {
    "duration": 301,
    "start_time": "2024-01-17T14:21:19.375Z"
   },
   {
    "duration": 3,
    "start_time": "2024-01-17T14:21:19.679Z"
   },
   {
    "duration": 5,
    "start_time": "2024-01-17T14:21:19.683Z"
   },
   {
    "duration": 11,
    "start_time": "2024-01-17T14:21:19.689Z"
   },
   {
    "duration": 7,
    "start_time": "2024-01-17T14:21:19.701Z"
   },
   {
    "duration": 9,
    "start_time": "2024-01-17T14:21:19.709Z"
   },
   {
    "duration": 4,
    "start_time": "2024-01-17T14:21:19.720Z"
   },
   {
    "duration": 3,
    "start_time": "2024-01-17T14:21:19.726Z"
   },
   {
    "duration": 6,
    "start_time": "2024-01-17T14:21:19.731Z"
   },
   {
    "duration": 18677,
    "start_time": "2024-01-17T14:21:19.764Z"
   },
   {
    "duration": 7,
    "start_time": "2024-01-17T14:21:38.444Z"
   },
   {
    "duration": 16,
    "start_time": "2024-01-17T14:21:38.455Z"
   },
   {
    "duration": 20,
    "start_time": "2024-01-17T14:21:38.472Z"
   },
   {
    "duration": 14,
    "start_time": "2024-01-17T14:21:38.493Z"
   },
   {
    "duration": 28,
    "start_time": "2024-01-17T14:21:38.509Z"
   },
   {
    "duration": 7,
    "start_time": "2024-01-17T14:21:38.539Z"
   },
   {
    "duration": 5,
    "start_time": "2024-01-17T14:21:38.547Z"
   },
   {
    "duration": 1823,
    "start_time": "2024-01-17T14:23:07.026Z"
   },
   {
    "duration": 917,
    "start_time": "2024-01-17T14:23:08.851Z"
   },
   {
    "duration": 33,
    "start_time": "2024-01-17T14:23:09.770Z"
   },
   {
    "duration": 12,
    "start_time": "2024-01-17T14:23:09.804Z"
   },
   {
    "duration": 14,
    "start_time": "2024-01-17T14:23:09.818Z"
   },
   {
    "duration": 128,
    "start_time": "2024-01-17T14:23:09.833Z"
   },
   {
    "duration": 287,
    "start_time": "2024-01-17T14:23:09.964Z"
   },
   {
    "duration": 2,
    "start_time": "2024-01-17T14:23:10.254Z"
   },
   {
    "duration": 9,
    "start_time": "2024-01-17T14:23:10.264Z"
   },
   {
    "duration": 33,
    "start_time": "2024-01-17T14:23:10.274Z"
   },
   {
    "duration": 8,
    "start_time": "2024-01-17T14:23:10.309Z"
   },
   {
    "duration": 6,
    "start_time": "2024-01-17T14:23:10.318Z"
   },
   {
    "duration": 4,
    "start_time": "2024-01-17T14:23:10.326Z"
   },
   {
    "duration": 7,
    "start_time": "2024-01-17T14:23:10.332Z"
   },
   {
    "duration": 12,
    "start_time": "2024-01-17T14:23:10.340Z"
   },
   {
    "duration": 70210,
    "start_time": "2024-01-17T14:23:10.353Z"
   },
   {
    "duration": 6,
    "start_time": "2024-01-17T14:24:20.565Z"
   },
   {
    "duration": 13,
    "start_time": "2024-01-17T14:24:20.573Z"
   },
   {
    "duration": 18,
    "start_time": "2024-01-17T14:24:20.587Z"
   },
   {
    "duration": 8,
    "start_time": "2024-01-17T14:24:20.607Z"
   },
   {
    "duration": 37,
    "start_time": "2024-01-17T14:24:20.617Z"
   },
   {
    "duration": 10,
    "start_time": "2024-01-17T14:24:20.655Z"
   },
   {
    "duration": 3,
    "start_time": "2024-01-17T14:24:20.667Z"
   },
   {
    "duration": 569301,
    "start_time": "2024-01-17T14:24:20.672Z"
   },
   {
    "duration": 161754,
    "start_time": "2024-01-17T14:33:49.975Z"
   },
   {
    "duration": 4,
    "start_time": "2024-01-17T14:36:31.730Z"
   },
   {
    "duration": 162,
    "start_time": "2024-01-17T14:36:31.736Z"
   },
   {
    "duration": 0,
    "start_time": "2024-01-17T14:36:31.900Z"
   },
   {
    "duration": 0,
    "start_time": "2024-01-17T14:36:31.903Z"
   },
   {
    "duration": 1151,
    "start_time": "2024-01-17T14:54:13.193Z"
   },
   {
    "duration": 3,
    "start_time": "2024-01-17T14:54:14.496Z"
   },
   {
    "duration": 105,
    "start_time": "2024-01-17T14:54:53.940Z"
   },
   {
    "duration": 3,
    "start_time": "2024-01-17T14:55:02.769Z"
   },
   {
    "duration": 1903,
    "start_time": "2024-01-17T14:56:33.254Z"
   },
   {
    "duration": 880,
    "start_time": "2024-01-17T14:56:35.159Z"
   },
   {
    "duration": 31,
    "start_time": "2024-01-17T14:56:36.041Z"
   },
   {
    "duration": 13,
    "start_time": "2024-01-17T14:56:36.074Z"
   },
   {
    "duration": 16,
    "start_time": "2024-01-17T14:56:36.090Z"
   },
   {
    "duration": 122,
    "start_time": "2024-01-17T14:56:36.108Z"
   },
   {
    "duration": 305,
    "start_time": "2024-01-17T14:56:36.231Z"
   },
   {
    "duration": 2,
    "start_time": "2024-01-17T14:56:36.539Z"
   },
   {
    "duration": 4,
    "start_time": "2024-01-17T14:56:36.543Z"
   },
   {
    "duration": 21,
    "start_time": "2024-01-17T14:56:36.548Z"
   },
   {
    "duration": 9,
    "start_time": "2024-01-17T14:56:36.571Z"
   },
   {
    "duration": 5,
    "start_time": "2024-01-17T14:56:36.581Z"
   },
   {
    "duration": 4,
    "start_time": "2024-01-17T14:56:36.588Z"
   },
   {
    "duration": 3,
    "start_time": "2024-01-17T14:56:36.594Z"
   },
   {
    "duration": 5,
    "start_time": "2024-01-17T14:56:36.598Z"
   },
   {
    "duration": 72115,
    "start_time": "2024-01-17T14:56:36.604Z"
   },
   {
    "duration": 8,
    "start_time": "2024-01-17T14:57:48.720Z"
   },
   {
    "duration": 14,
    "start_time": "2024-01-17T14:57:48.730Z"
   },
   {
    "duration": 22,
    "start_time": "2024-01-17T14:57:48.745Z"
   },
   {
    "duration": 5,
    "start_time": "2024-01-17T14:57:48.769Z"
   },
   {
    "duration": 40,
    "start_time": "2024-01-17T14:57:48.776Z"
   },
   {
    "duration": 7,
    "start_time": "2024-01-17T14:57:48.817Z"
   },
   {
    "duration": 4,
    "start_time": "2024-01-17T14:57:48.826Z"
   },
   {
    "duration": 552317,
    "start_time": "2024-01-17T14:57:48.839Z"
   },
   {
    "duration": 153660,
    "start_time": "2024-01-17T15:07:01.158Z"
   },
   {
    "duration": 2,
    "start_time": "2024-01-17T15:09:34.820Z"
   },
   {
    "duration": 35,
    "start_time": "2024-01-17T15:09:34.823Z"
   },
   {
    "duration": 0,
    "start_time": "2024-01-17T15:09:34.860Z"
   },
   {
    "duration": 0,
    "start_time": "2024-01-17T15:09:34.862Z"
   },
   {
    "duration": 1915,
    "start_time": "2024-01-17T15:12:18.783Z"
   },
   {
    "duration": 829,
    "start_time": "2024-01-17T15:12:20.700Z"
   },
   {
    "duration": 36,
    "start_time": "2024-01-17T15:12:21.533Z"
   },
   {
    "duration": 12,
    "start_time": "2024-01-17T15:12:21.572Z"
   },
   {
    "duration": 15,
    "start_time": "2024-01-17T15:12:21.586Z"
   },
   {
    "duration": 130,
    "start_time": "2024-01-17T15:12:21.602Z"
   },
   {
    "duration": 296,
    "start_time": "2024-01-17T15:12:21.734Z"
   },
   {
    "duration": 2,
    "start_time": "2024-01-17T15:12:22.033Z"
   },
   {
    "duration": 5,
    "start_time": "2024-01-17T15:12:22.037Z"
   },
   {
    "duration": 23,
    "start_time": "2024-01-17T15:12:22.044Z"
   },
   {
    "duration": 6,
    "start_time": "2024-01-17T15:12:22.069Z"
   },
   {
    "duration": 7,
    "start_time": "2024-01-17T15:12:22.077Z"
   },
   {
    "duration": 4,
    "start_time": "2024-01-17T15:12:22.088Z"
   },
   {
    "duration": 3,
    "start_time": "2024-01-17T15:12:22.093Z"
   },
   {
    "duration": 11,
    "start_time": "2024-01-17T15:12:22.098Z"
   },
   {
    "duration": 68936,
    "start_time": "2024-01-17T15:12:22.111Z"
   },
   {
    "duration": 15,
    "start_time": "2024-01-17T15:13:31.049Z"
   },
   {
    "duration": 26,
    "start_time": "2024-01-17T15:13:31.065Z"
   },
   {
    "duration": 50,
    "start_time": "2024-01-17T15:13:31.092Z"
   },
   {
    "duration": 30,
    "start_time": "2024-01-17T15:13:31.143Z"
   },
   {
    "duration": 43,
    "start_time": "2024-01-17T15:13:31.174Z"
   },
   {
    "duration": 25,
    "start_time": "2024-01-17T15:13:31.219Z"
   },
   {
    "duration": 17,
    "start_time": "2024-01-17T15:13:31.245Z"
   },
   {
    "duration": 560307,
    "start_time": "2024-01-17T15:13:31.264Z"
   },
   {
    "duration": 152699,
    "start_time": "2024-01-17T15:22:51.665Z"
   },
   {
    "duration": 2,
    "start_time": "2024-01-17T15:25:24.366Z"
   },
   {
    "duration": 1049,
    "start_time": "2024-01-17T15:25:24.369Z"
   },
   {
    "duration": 3,
    "start_time": "2024-01-17T15:25:25.420Z"
   },
   {
    "duration": 90,
    "start_time": "2024-01-17T15:25:25.424Z"
   },
   {
    "duration": 2066,
    "start_time": "2024-01-20T12:12:51.245Z"
   },
   {
    "duration": 2243,
    "start_time": "2024-01-20T12:12:53.314Z"
   },
   {
    "duration": 31,
    "start_time": "2024-01-20T12:12:55.559Z"
   },
   {
    "duration": 14,
    "start_time": "2024-01-20T12:12:55.591Z"
   },
   {
    "duration": 20,
    "start_time": "2024-01-20T12:12:55.608Z"
   },
   {
    "duration": 107,
    "start_time": "2024-01-20T12:12:55.629Z"
   },
   {
    "duration": 309,
    "start_time": "2024-01-20T12:12:55.737Z"
   },
   {
    "duration": 2,
    "start_time": "2024-01-20T12:12:56.048Z"
   },
   {
    "duration": 28,
    "start_time": "2024-01-20T12:12:56.052Z"
   },
   {
    "duration": 13,
    "start_time": "2024-01-20T12:12:56.082Z"
   },
   {
    "duration": 12,
    "start_time": "2024-01-20T12:12:56.096Z"
   },
   {
    "duration": 24,
    "start_time": "2024-01-20T12:12:56.109Z"
   },
   {
    "duration": 4,
    "start_time": "2024-01-20T12:12:56.135Z"
   },
   {
    "duration": 125,
    "start_time": "2024-01-20T12:12:56.142Z"
   },
   {
    "duration": 0,
    "start_time": "2024-01-20T12:12:56.269Z"
   },
   {
    "duration": 0,
    "start_time": "2024-01-20T12:12:56.270Z"
   },
   {
    "duration": 0,
    "start_time": "2024-01-20T12:12:56.271Z"
   },
   {
    "duration": 0,
    "start_time": "2024-01-20T12:12:56.272Z"
   },
   {
    "duration": 0,
    "start_time": "2024-01-20T12:12:56.273Z"
   },
   {
    "duration": 0,
    "start_time": "2024-01-20T12:12:56.274Z"
   },
   {
    "duration": 0,
    "start_time": "2024-01-20T12:12:56.275Z"
   },
   {
    "duration": 2594,
    "start_time": "2024-01-20T12:13:10.742Z"
   },
   {
    "duration": 284,
    "start_time": "2024-01-20T12:13:14.278Z"
   },
   {
    "duration": 2,
    "start_time": "2024-01-20T12:13:37.759Z"
   },
   {
    "duration": 2892,
    "start_time": "2024-01-20T12:13:47.422Z"
   },
   {
    "duration": 8076,
    "start_time": "2024-01-20T12:13:56.136Z"
   },
   {
    "duration": 116,
    "start_time": "2024-01-20T12:14:07.316Z"
   },
   {
    "duration": 139,
    "start_time": "2024-01-20T12:14:50.979Z"
   },
   {
    "duration": 81,
    "start_time": "2024-01-20T12:15:00.681Z"
   },
   {
    "duration": 516,
    "start_time": "2024-01-20T12:15:36.746Z"
   },
   {
    "duration": 3,
    "start_time": "2024-01-20T12:15:48.602Z"
   },
   {
    "duration": 13,
    "start_time": "2024-01-20T12:16:02.824Z"
   },
   {
    "duration": 4,
    "start_time": "2024-01-20T12:16:12.447Z"
   },
   {
    "duration": 4,
    "start_time": "2024-01-20T12:16:59.285Z"
   },
   {
    "duration": 3,
    "start_time": "2024-01-20T12:17:27.959Z"
   },
   {
    "duration": 3,
    "start_time": "2024-01-20T12:17:32.045Z"
   },
   {
    "duration": 5,
    "start_time": "2024-01-20T12:18:04.325Z"
   },
   {
    "duration": 4,
    "start_time": "2024-01-20T12:18:31.586Z"
   },
   {
    "duration": 11,
    "start_time": "2024-01-20T12:18:43.531Z"
   },
   {
    "duration": 3,
    "start_time": "2024-01-20T12:18:43.889Z"
   },
   {
    "duration": 3,
    "start_time": "2024-01-20T12:26:51.082Z"
   },
   {
    "duration": 518,
    "start_time": "2024-01-20T12:26:56.709Z"
   },
   {
    "duration": 658,
    "start_time": "2024-01-20T12:27:26.344Z"
   },
   {
    "duration": 3,
    "start_time": "2024-01-20T12:27:29.640Z"
   },
   {
    "duration": 446,
    "start_time": "2024-01-20T12:27:32.793Z"
   },
   {
    "duration": 119,
    "start_time": "2024-01-20T12:31:15.878Z"
   },
   {
    "duration": 5,
    "start_time": "2024-01-20T12:31:32.191Z"
   },
   {
    "duration": 3,
    "start_time": "2024-01-20T12:31:37.175Z"
   },
   {
    "duration": 3,
    "start_time": "2024-01-20T12:31:41.719Z"
   },
   {
    "duration": 83,
    "start_time": "2024-01-20T12:31:43.709Z"
   },
   {
    "duration": 3,
    "start_time": "2024-01-20T12:31:55.670Z"
   },
   {
    "duration": 71,
    "start_time": "2024-01-20T12:32:18.130Z"
   },
   {
    "duration": 3,
    "start_time": "2024-01-20T12:36:05.326Z"
   },
   {
    "duration": 2181,
    "start_time": "2024-01-20T12:36:11.512Z"
   },
   {
    "duration": 4985,
    "start_time": "2024-01-20T12:44:10.536Z"
   },
   {
    "duration": 946,
    "start_time": "2024-01-20T12:44:15.523Z"
   },
   {
    "duration": 29,
    "start_time": "2024-01-20T12:44:16.470Z"
   },
   {
    "duration": 29,
    "start_time": "2024-01-20T12:44:16.501Z"
   },
   {
    "duration": 21,
    "start_time": "2024-01-20T12:44:16.533Z"
   },
   {
    "duration": 113,
    "start_time": "2024-01-20T12:44:16.556Z"
   },
   {
    "duration": 286,
    "start_time": "2024-01-20T12:44:16.671Z"
   },
   {
    "duration": 2,
    "start_time": "2024-01-20T12:44:16.960Z"
   },
   {
    "duration": 7,
    "start_time": "2024-01-20T12:44:16.963Z"
   },
   {
    "duration": 10,
    "start_time": "2024-01-20T12:44:16.972Z"
   },
   {
    "duration": 6,
    "start_time": "2024-01-20T12:44:16.983Z"
   },
   {
    "duration": 7,
    "start_time": "2024-01-20T12:44:16.990Z"
   },
   {
    "duration": 24,
    "start_time": "2024-01-20T12:44:16.998Z"
   },
   {
    "duration": 511,
    "start_time": "2024-01-20T12:44:17.025Z"
   },
   {
    "duration": 3,
    "start_time": "2024-01-20T12:44:17.537Z"
   },
   {
    "duration": 21,
    "start_time": "2024-01-20T12:44:17.541Z"
   },
   {
    "duration": 4,
    "start_time": "2024-01-20T12:44:17.564Z"
   },
   {
    "duration": 5,
    "start_time": "2024-01-20T12:44:17.569Z"
   },
   {
    "duration": 2251,
    "start_time": "2024-01-20T12:44:17.576Z"
   },
   {
    "duration": 3,
    "start_time": "2024-01-20T12:44:19.828Z"
   },
   {
    "duration": 19,
    "start_time": "2024-01-20T12:44:19.832Z"
   },
   {
    "duration": 46,
    "start_time": "2024-01-20T12:44:19.852Z"
   },
   {
    "duration": 36,
    "start_time": "2024-01-20T12:44:19.899Z"
   },
   {
    "duration": 47,
    "start_time": "2024-01-20T12:44:19.936Z"
   },
   {
    "duration": 45,
    "start_time": "2024-01-20T12:44:19.986Z"
   },
   {
    "duration": 45,
    "start_time": "2024-01-20T12:44:20.033Z"
   },
   {
    "duration": 19,
    "start_time": "2024-01-20T12:44:20.080Z"
   },
   {
    "duration": 26,
    "start_time": "2024-01-20T12:44:20.101Z"
   },
   {
    "duration": 343,
    "start_time": "2024-01-20T12:45:11.394Z"
   },
   {
    "duration": 4,
    "start_time": "2024-01-20T12:45:47.422Z"
   },
   {
    "duration": 15,
    "start_time": "2024-01-20T12:45:53.421Z"
   },
   {
    "duration": 3,
    "start_time": "2024-01-20T12:46:13.710Z"
   },
   {
    "duration": 493,
    "start_time": "2024-01-20T12:46:29.099Z"
   },
   {
    "duration": 3,
    "start_time": "2024-01-20T12:46:44.342Z"
   },
   {
    "duration": 68821,
    "start_time": "2024-01-20T12:46:44.441Z"
   },
   {
    "duration": 7,
    "start_time": "2024-01-20T12:48:01.260Z"
   },
   {
    "duration": 4334,
    "start_time": "2024-01-20T12:49:31.504Z"
   },
   {
    "duration": 848,
    "start_time": "2024-01-20T12:49:35.840Z"
   },
   {
    "duration": 30,
    "start_time": "2024-01-20T12:49:36.690Z"
   },
   {
    "duration": 13,
    "start_time": "2024-01-20T12:49:36.722Z"
   },
   {
    "duration": 16,
    "start_time": "2024-01-20T12:49:36.737Z"
   },
   {
    "duration": 117,
    "start_time": "2024-01-20T12:49:36.755Z"
   },
   {
    "duration": 280,
    "start_time": "2024-01-20T12:49:36.874Z"
   },
   {
    "duration": 2,
    "start_time": "2024-01-20T12:49:37.157Z"
   },
   {
    "duration": 8,
    "start_time": "2024-01-20T12:49:37.161Z"
   },
   {
    "duration": 15,
    "start_time": "2024-01-20T12:49:37.170Z"
   },
   {
    "duration": 29,
    "start_time": "2024-01-20T12:49:37.186Z"
   },
   {
    "duration": 10,
    "start_time": "2024-01-20T12:49:37.216Z"
   },
   {
    "duration": 4,
    "start_time": "2024-01-20T12:49:37.228Z"
   },
   {
    "duration": 8,
    "start_time": "2024-01-20T12:49:37.234Z"
   },
   {
    "duration": 7,
    "start_time": "2024-01-20T12:49:37.244Z"
   },
   {
    "duration": 2105,
    "start_time": "2024-01-20T12:49:37.253Z"
   },
   {
    "duration": 3,
    "start_time": "2024-01-20T12:49:39.360Z"
   },
   {
    "duration": 81804,
    "start_time": "2024-01-20T12:49:39.364Z"
   },
   {
    "duration": 7,
    "start_time": "2024-01-20T12:51:01.170Z"
   },
   {
    "duration": 39,
    "start_time": "2024-01-20T12:51:01.178Z"
   },
   {
    "duration": 81,
    "start_time": "2024-01-20T12:51:01.219Z"
   },
   {
    "duration": 39,
    "start_time": "2024-01-20T12:51:01.302Z"
   },
   {
    "duration": 81,
    "start_time": "2024-01-20T12:51:01.342Z"
   },
   {
    "duration": 33,
    "start_time": "2024-01-20T12:51:01.424Z"
   },
   {
    "duration": 57,
    "start_time": "2024-01-20T12:51:01.459Z"
   },
   {
    "duration": 498,
    "start_time": "2024-01-20T12:54:00.529Z"
   },
   {
    "duration": 459,
    "start_time": "2024-01-20T12:56:27.058Z"
   },
   {
    "duration": 52,
    "start_time": "2024-01-20T12:56:27.556Z"
   },
   {
    "duration": 3,
    "start_time": "2024-01-20T12:58:10.191Z"
   },
   {
    "duration": 702,
    "start_time": "2024-01-20T12:58:19.063Z"
   },
   {
    "duration": 4,
    "start_time": "2024-01-20T12:58:39.476Z"
   },
   {
    "duration": 395,
    "start_time": "2024-01-20T12:58:42.332Z"
   },
   {
    "duration": 19,
    "start_time": "2024-01-20T12:59:28.842Z"
   },
   {
    "duration": 74,
    "start_time": "2024-01-20T12:59:51.414Z"
   },
   {
    "duration": 80,
    "start_time": "2024-01-20T12:59:55.466Z"
   },
   {
    "duration": 21,
    "start_time": "2024-01-20T13:00:51.830Z"
   },
   {
    "duration": 4,
    "start_time": "2024-01-20T13:01:59.209Z"
   },
   {
    "duration": 3,
    "start_time": "2024-01-20T13:02:06.946Z"
   },
   {
    "duration": 4,
    "start_time": "2024-01-20T13:02:13.777Z"
   },
   {
    "duration": 2,
    "start_time": "2024-01-20T13:02:27.693Z"
   },
   {
    "duration": 4,
    "start_time": "2024-01-20T13:02:32.923Z"
   },
   {
    "duration": 3,
    "start_time": "2024-01-20T13:02:44.806Z"
   },
   {
    "duration": 18,
    "start_time": "2024-01-20T13:03:54.166Z"
   },
   {
    "duration": 26,
    "start_time": "2024-01-20T13:04:12.320Z"
   },
   {
    "duration": 294,
    "start_time": "2024-01-20T13:04:33.286Z"
   },
   {
    "duration": 106,
    "start_time": "2024-01-20T13:04:36.537Z"
   },
   {
    "duration": 2,
    "start_time": "2024-01-20T13:05:01.389Z"
   },
   {
    "duration": 4,
    "start_time": "2024-01-20T13:05:08.340Z"
   },
   {
    "duration": 6,
    "start_time": "2024-01-20T13:05:18.476Z"
   },
   {
    "duration": 24,
    "start_time": "2024-01-20T13:07:02.478Z"
   },
   {
    "duration": 6,
    "start_time": "2024-01-20T13:07:09.903Z"
   },
   {
    "duration": 16,
    "start_time": "2024-01-20T13:07:48.039Z"
   },
   {
    "duration": 80,
    "start_time": "2024-01-20T13:07:56.491Z"
   },
   {
    "duration": 4535,
    "start_time": "2024-01-20T13:11:21.484Z"
   },
   {
    "duration": 907,
    "start_time": "2024-01-20T13:11:26.023Z"
   },
   {
    "duration": 27,
    "start_time": "2024-01-20T13:11:26.933Z"
   },
   {
    "duration": 18,
    "start_time": "2024-01-20T13:11:26.962Z"
   },
   {
    "duration": 24,
    "start_time": "2024-01-20T13:11:26.982Z"
   },
   {
    "duration": 102,
    "start_time": "2024-01-20T13:11:27.008Z"
   },
   {
    "duration": 298,
    "start_time": "2024-01-20T13:11:27.120Z"
   },
   {
    "duration": 4,
    "start_time": "2024-01-20T13:11:27.421Z"
   },
   {
    "duration": 25,
    "start_time": "2024-01-20T13:11:27.427Z"
   },
   {
    "duration": 16,
    "start_time": "2024-01-20T13:11:27.453Z"
   },
   {
    "duration": 8,
    "start_time": "2024-01-20T13:11:27.471Z"
   },
   {
    "duration": 24,
    "start_time": "2024-01-20T13:11:27.480Z"
   },
   {
    "duration": 45,
    "start_time": "2024-01-20T13:11:27.506Z"
   },
   {
    "duration": 14,
    "start_time": "2024-01-20T13:11:27.553Z"
   },
   {
    "duration": 9,
    "start_time": "2024-01-20T13:11:27.568Z"
   },
   {
    "duration": 9,
    "start_time": "2024-01-20T13:11:27.579Z"
   },
   {
    "duration": 12,
    "start_time": "2024-01-20T13:11:27.590Z"
   },
   {
    "duration": 11,
    "start_time": "2024-01-20T13:11:27.603Z"
   },
   {
    "duration": 43,
    "start_time": "2024-01-20T13:11:27.615Z"
   },
   {
    "duration": 8,
    "start_time": "2024-01-20T13:11:27.659Z"
   },
   {
    "duration": 2,
    "start_time": "2024-01-20T13:11:27.669Z"
   },
   {
    "duration": 5,
    "start_time": "2024-01-20T13:12:18.646Z"
   },
   {
    "duration": 22,
    "start_time": "2024-01-20T13:12:42.616Z"
   },
   {
    "duration": 3,
    "start_time": "2024-01-20T13:12:59.375Z"
   },
   {
    "duration": 2,
    "start_time": "2024-01-20T13:13:09.147Z"
   },
   {
    "duration": 392,
    "start_time": "2024-01-20T13:13:21.841Z"
   },
   {
    "duration": 2,
    "start_time": "2024-01-20T13:13:28.349Z"
   },
   {
    "duration": 1694,
    "start_time": "2024-01-20T13:13:28.587Z"
   },
   {
    "duration": 11,
    "start_time": "2024-01-20T13:13:53.334Z"
   },
   {
    "duration": 25,
    "start_time": "2024-01-20T13:14:11.062Z"
   },
   {
    "duration": 6,
    "start_time": "2024-01-20T13:14:23.212Z"
   },
   {
    "duration": 12,
    "start_time": "2024-01-20T13:14:27.676Z"
   },
   {
    "duration": 2,
    "start_time": "2024-01-20T13:14:54.439Z"
   },
   {
    "duration": 2352,
    "start_time": "2024-01-20T13:14:54.912Z"
   },
   {
    "duration": 12,
    "start_time": "2024-01-20T13:14:58.519Z"
   },
   {
    "duration": 5,
    "start_time": "2024-01-20T13:15:01.840Z"
   },
   {
    "duration": 29,
    "start_time": "2024-01-20T13:15:08.821Z"
   },
   {
    "duration": 3,
    "start_time": "2024-01-20T13:16:17.014Z"
   },
   {
    "duration": 385,
    "start_time": "2024-01-20T13:16:17.520Z"
   },
   {
    "duration": 2,
    "start_time": "2024-01-20T13:16:25.582Z"
   },
   {
    "duration": 381,
    "start_time": "2024-01-20T13:16:26.119Z"
   },
   {
    "duration": 3,
    "start_time": "2024-01-20T13:16:34.336Z"
   },
   {
    "duration": 324,
    "start_time": "2024-01-20T13:16:34.871Z"
   },
   {
    "duration": 3,
    "start_time": "2024-01-20T13:16:45.209Z"
   },
   {
    "duration": 1495,
    "start_time": "2024-01-20T13:16:45.493Z"
   },
   {
    "duration": 3,
    "start_time": "2024-01-20T13:17:33.406Z"
   },
   {
    "duration": 1527,
    "start_time": "2024-01-20T13:17:33.848Z"
   },
   {
    "duration": 8,
    "start_time": "2024-01-20T13:17:42.054Z"
   },
   {
    "duration": 3,
    "start_time": "2024-01-20T13:17:47.087Z"
   },
   {
    "duration": 2,
    "start_time": "2024-01-20T13:17:47.994Z"
   },
   {
    "duration": 23,
    "start_time": "2024-01-20T13:17:48.636Z"
   },
   {
    "duration": 3,
    "start_time": "2024-01-20T13:18:05.234Z"
   },
   {
    "duration": 1484,
    "start_time": "2024-01-20T13:18:05.554Z"
   },
   {
    "duration": 3,
    "start_time": "2024-01-20T13:18:07.040Z"
   },
   {
    "duration": 14,
    "start_time": "2024-01-20T13:18:07.044Z"
   },
   {
    "duration": 29,
    "start_time": "2024-01-20T13:18:07.059Z"
   },
   {
    "duration": 5,
    "start_time": "2024-01-20T13:18:07.965Z"
   },
   {
    "duration": 1569,
    "start_time": "2024-01-20T13:19:15.980Z"
   },
   {
    "duration": 75,
    "start_time": "2024-01-20T13:19:17.551Z"
   },
   {
    "duration": 537,
    "start_time": "2024-01-20T13:19:30.806Z"
   },
   {
    "duration": 71,
    "start_time": "2024-01-20T13:19:31.529Z"
   },
   {
    "duration": 13,
    "start_time": "2024-01-20T13:20:03.175Z"
   },
   {
    "duration": 4,
    "start_time": "2024-01-20T13:20:11.573Z"
   },
   {
    "duration": 25,
    "start_time": "2024-01-20T13:20:32.812Z"
   },
   {
    "duration": 17,
    "start_time": "2024-01-20T13:20:40.735Z"
   },
   {
    "duration": 17,
    "start_time": "2024-01-20T13:20:49.575Z"
   },
   {
    "duration": 15,
    "start_time": "2024-01-20T13:22:53.509Z"
   },
   {
    "duration": 3,
    "start_time": "2024-01-20T13:22:58.482Z"
   },
   {
    "duration": 20,
    "start_time": "2024-01-20T13:23:57.265Z"
   },
   {
    "duration": 8,
    "start_time": "2024-01-20T13:23:57.620Z"
   },
   {
    "duration": 17,
    "start_time": "2024-01-20T13:24:03.092Z"
   },
   {
    "duration": 14,
    "start_time": "2024-01-20T13:24:16.186Z"
   },
   {
    "duration": 4,
    "start_time": "2024-01-20T13:24:17.801Z"
   },
   {
    "duration": 30,
    "start_time": "2024-01-20T13:25:16.582Z"
   },
   {
    "duration": 2,
    "start_time": "2024-01-20T13:26:07.258Z"
   },
   {
    "duration": 3,
    "start_time": "2024-01-20T13:26:07.994Z"
   },
   {
    "duration": 3,
    "start_time": "2024-01-20T13:26:08.460Z"
   },
   {
    "duration": 3,
    "start_time": "2024-01-20T13:26:09.178Z"
   },
   {
    "duration": 28,
    "start_time": "2024-01-20T13:26:11.798Z"
   },
   {
    "duration": 3,
    "start_time": "2024-01-20T13:26:59.091Z"
   },
   {
    "duration": 5,
    "start_time": "2024-01-20T13:26:59.617Z"
   },
   {
    "duration": 34,
    "start_time": "2024-01-20T13:27:11.489Z"
   },
   {
    "duration": 50,
    "start_time": "2024-01-20T13:27:20.807Z"
   },
   {
    "duration": 15,
    "start_time": "2024-01-20T13:27:24.600Z"
   },
   {
    "duration": 31,
    "start_time": "2024-01-20T13:27:28.887Z"
   },
   {
    "duration": 4,
    "start_time": "2024-01-20T13:27:39.292Z"
   },
   {
    "duration": 3,
    "start_time": "2024-01-20T13:39:49.085Z"
   },
   {
    "duration": 377,
    "start_time": "2024-01-20T13:40:19.049Z"
   },
   {
    "duration": 4,
    "start_time": "2024-01-20T13:40:30.062Z"
   },
   {
    "duration": 3,
    "start_time": "2024-01-20T13:40:32.274Z"
   },
   {
    "duration": 353,
    "start_time": "2024-01-20T13:40:32.557Z"
   },
   {
    "duration": 3,
    "start_time": "2024-01-20T13:40:45.234Z"
   },
   {
    "duration": 31753,
    "start_time": "2024-01-20T13:40:45.559Z"
   },
   {
    "duration": 2,
    "start_time": "2024-01-20T13:41:29.342Z"
   },
   {
    "duration": 98889,
    "start_time": "2024-01-20T13:41:31.075Z"
   },
   {
    "duration": 3,
    "start_time": "2024-01-20T13:43:18.337Z"
   },
   {
    "duration": 388,
    "start_time": "2024-01-20T13:43:19.108Z"
   },
   {
    "duration": 3,
    "start_time": "2024-01-20T13:43:38.152Z"
   },
   {
    "duration": 14790,
    "start_time": "2024-01-20T13:43:38.958Z"
   },
   {
    "duration": 47324,
    "start_time": "2024-01-20T13:43:58.118Z"
   },
   {
    "duration": 3,
    "start_time": "2024-01-20T13:45:00.339Z"
   },
   {
    "duration": 52415,
    "start_time": "2024-01-20T13:45:05.337Z"
   },
   {
    "duration": 15,
    "start_time": "2024-01-20T13:46:06.667Z"
   },
   {
    "duration": 2,
    "start_time": "2024-01-20T13:46:07.359Z"
   },
   {
    "duration": 3,
    "start_time": "2024-01-20T13:46:11.877Z"
   },
   {
    "duration": 582172,
    "start_time": "2024-01-20T13:46:16.082Z"
   },
   {
    "duration": 9,
    "start_time": "2024-01-20T13:55:58.256Z"
   },
   {
    "duration": 4570,
    "start_time": "2024-01-20T13:58:39.562Z"
   },
   {
    "duration": 908,
    "start_time": "2024-01-20T13:58:44.135Z"
   },
   {
    "duration": 30,
    "start_time": "2024-01-20T13:58:45.044Z"
   },
   {
    "duration": 17,
    "start_time": "2024-01-20T13:58:45.076Z"
   },
   {
    "duration": 31,
    "start_time": "2024-01-20T13:58:45.095Z"
   },
   {
    "duration": 122,
    "start_time": "2024-01-20T13:58:45.129Z"
   },
   {
    "duration": 311,
    "start_time": "2024-01-20T13:58:45.253Z"
   },
   {
    "duration": 2,
    "start_time": "2024-01-20T13:58:45.567Z"
   },
   {
    "duration": 8,
    "start_time": "2024-01-20T13:58:45.571Z"
   },
   {
    "duration": 23,
    "start_time": "2024-01-20T13:58:45.580Z"
   },
   {
    "duration": 8,
    "start_time": "2024-01-20T13:58:45.604Z"
   },
   {
    "duration": 17,
    "start_time": "2024-01-20T13:58:45.614Z"
   },
   {
    "duration": 4,
    "start_time": "2024-01-20T13:58:45.633Z"
   },
   {
    "duration": 3,
    "start_time": "2024-01-20T13:58:45.640Z"
   },
   {
    "duration": 12,
    "start_time": "2024-01-20T13:58:45.644Z"
   },
   {
    "duration": 4,
    "start_time": "2024-01-20T13:58:45.658Z"
   },
   {
    "duration": 11395,
    "start_time": "2024-01-20T13:58:45.664Z"
   },
   {
    "duration": 2733,
    "start_time": "2024-01-20T13:58:57.060Z"
   },
   {
    "duration": 4,
    "start_time": "2024-01-20T13:58:59.795Z"
   },
   {
    "duration": 1818,
    "start_time": "2024-01-20T13:58:59.801Z"
   },
   {
    "duration": 13,
    "start_time": "2024-01-20T13:59:01.621Z"
   },
   {
    "duration": 32,
    "start_time": "2024-01-20T13:59:01.636Z"
   },
   {
    "duration": 29,
    "start_time": "2024-01-20T13:59:01.670Z"
   },
   {
    "duration": 30,
    "start_time": "2024-01-20T13:59:01.701Z"
   },
   {
    "duration": 63,
    "start_time": "2024-01-20T13:59:01.734Z"
   },
   {
    "duration": 55,
    "start_time": "2024-01-20T13:59:01.798Z"
   },
   {
    "duration": 39,
    "start_time": "2024-01-20T13:59:01.854Z"
   },
   {
    "duration": 592,
    "start_time": "2024-01-20T13:59:43.179Z"
   },
   {
    "duration": 4,
    "start_time": "2024-01-20T14:00:33.572Z"
   },
   {
    "duration": 5619,
    "start_time": "2024-01-20T14:00:47.543Z"
   },
   {
    "duration": 942,
    "start_time": "2024-01-20T14:00:53.164Z"
   },
   {
    "duration": 46,
    "start_time": "2024-01-20T14:00:54.108Z"
   },
   {
    "duration": 22,
    "start_time": "2024-01-20T14:00:54.156Z"
   },
   {
    "duration": 16,
    "start_time": "2024-01-20T14:00:54.180Z"
   },
   {
    "duration": 138,
    "start_time": "2024-01-20T14:00:54.198Z"
   },
   {
    "duration": 316,
    "start_time": "2024-01-20T14:00:54.338Z"
   },
   {
    "duration": 3,
    "start_time": "2024-01-20T14:00:54.658Z"
   },
   {
    "duration": 4,
    "start_time": "2024-01-20T14:00:54.663Z"
   },
   {
    "duration": 11,
    "start_time": "2024-01-20T14:00:54.668Z"
   },
   {
    "duration": 13,
    "start_time": "2024-01-20T14:00:54.680Z"
   },
   {
    "duration": 29,
    "start_time": "2024-01-20T14:00:54.696Z"
   },
   {
    "duration": 5,
    "start_time": "2024-01-20T14:00:54.727Z"
   },
   {
    "duration": 7,
    "start_time": "2024-01-20T14:00:54.736Z"
   },
   {
    "duration": 11871,
    "start_time": "2024-01-20T14:00:54.745Z"
   },
   {
    "duration": 2749,
    "start_time": "2024-01-20T14:01:06.617Z"
   },
   {
    "duration": 5,
    "start_time": "2024-01-20T14:01:09.368Z"
   },
   {
    "duration": 1195218,
    "start_time": "2024-01-20T14:01:09.374Z"
   },
   {
    "duration": 9,
    "start_time": "2024-01-20T14:21:04.594Z"
   },
   {
    "duration": 82,
    "start_time": "2024-01-20T14:21:04.605Z"
   },
   {
    "duration": 12,
    "start_time": "2024-01-20T14:21:04.689Z"
   },
   {
    "duration": 19,
    "start_time": "2024-01-20T14:21:04.703Z"
   },
   {
    "duration": 65,
    "start_time": "2024-01-20T14:21:04.724Z"
   },
   {
    "duration": 7,
    "start_time": "2024-01-20T14:21:04.791Z"
   },
   {
    "duration": 22,
    "start_time": "2024-01-20T14:21:04.799Z"
   },
   {
    "duration": 3,
    "start_time": "2024-01-20T14:32:57.599Z"
   },
   {
    "duration": 2,
    "start_time": "2024-01-20T14:32:58.059Z"
   },
   {
    "duration": 54,
    "start_time": "2024-01-20T14:32:58.443Z"
   },
   {
    "duration": 8,
    "start_time": "2024-01-20T14:32:59.004Z"
   },
   {
    "duration": 5428,
    "start_time": "2024-01-20T14:34:48.881Z"
   },
   {
    "duration": 901,
    "start_time": "2024-01-20T14:34:54.311Z"
   },
   {
    "duration": 29,
    "start_time": "2024-01-20T14:34:55.213Z"
   },
   {
    "duration": 13,
    "start_time": "2024-01-20T14:34:55.243Z"
   },
   {
    "duration": 14,
    "start_time": "2024-01-20T14:34:55.258Z"
   },
   {
    "duration": 134,
    "start_time": "2024-01-20T14:34:55.273Z"
   },
   {
    "duration": 327,
    "start_time": "2024-01-20T14:34:55.408Z"
   },
   {
    "duration": 2,
    "start_time": "2024-01-20T14:34:55.738Z"
   },
   {
    "duration": 12,
    "start_time": "2024-01-20T14:34:55.741Z"
   },
   {
    "duration": 28,
    "start_time": "2024-01-20T14:34:55.754Z"
   },
   {
    "duration": 14,
    "start_time": "2024-01-20T14:34:55.783Z"
   },
   {
    "duration": 11797,
    "start_time": "2024-01-20T14:34:55.799Z"
   },
   {
    "duration": 2787,
    "start_time": "2024-01-20T14:35:07.598Z"
   },
   {
    "duration": 4,
    "start_time": "2024-01-20T14:35:10.387Z"
   },
   {
    "duration": 1275882,
    "start_time": "2024-01-20T14:35:10.392Z"
   },
   {
    "duration": 3,
    "start_time": "2024-01-20T14:56:26.275Z"
   },
   {
    "duration": 24,
    "start_time": "2024-01-20T14:56:26.280Z"
   },
   {
    "duration": 54,
    "start_time": "2024-01-20T14:56:26.306Z"
   },
   {
    "duration": 6,
    "start_time": "2024-01-20T14:56:26.362Z"
   },
   {
    "duration": 18,
    "start_time": "2024-01-20T14:56:26.370Z"
   },
   {
    "duration": 1335,
    "start_time": "2024-01-20T14:56:26.389Z"
   },
   {
    "duration": 1008,
    "start_time": "2024-01-20T14:56:27.726Z"
   },
   {
    "duration": 2,
    "start_time": "2024-01-20T14:56:28.736Z"
   },
   {
    "duration": 18,
    "start_time": "2024-01-20T14:56:28.740Z"
   },
   {
    "duration": 0,
    "start_time": "2024-01-20T14:56:28.759Z"
   },
   {
    "duration": 3,
    "start_time": "2024-01-20T14:59:11.393Z"
   },
   {
    "duration": 1135,
    "start_time": "2024-01-20T14:59:11.944Z"
   },
   {
    "duration": 5,
    "start_time": "2024-01-20T14:59:31.888Z"
   },
   {
    "duration": 15,
    "start_time": "2024-01-20T14:59:36.424Z"
   },
   {
    "duration": 5,
    "start_time": "2024-01-20T14:59:41.543Z"
   },
   {
    "duration": 4,
    "start_time": "2024-01-20T15:00:02.219Z"
   },
   {
    "duration": 3,
    "start_time": "2024-01-20T15:00:02.648Z"
   },
   {
    "duration": 32,
    "start_time": "2024-01-20T15:00:02.961Z"
   },
   {
    "duration": 8,
    "start_time": "2024-01-20T15:00:03.264Z"
   },
   {
    "duration": 5,
    "start_time": "2024-01-20T15:00:03.842Z"
   },
   {
    "duration": 4,
    "start_time": "2024-01-20T15:00:05.808Z"
   },
   {
    "duration": 1072,
    "start_time": "2024-01-20T15:00:06.328Z"
   },
   {
    "duration": 8,
    "start_time": "2024-01-20T15:00:16.326Z"
   },
   {
    "duration": 83,
    "start_time": "2024-01-20T15:01:29.256Z"
   },
   {
    "duration": 2,
    "start_time": "2024-01-20T15:01:30.007Z"
   },
   {
    "duration": 29,
    "start_time": "2024-01-20T15:01:31.687Z"
   },
   {
    "duration": 6,
    "start_time": "2024-01-20T15:01:32.067Z"
   },
   {
    "duration": 5,
    "start_time": "2024-01-20T15:01:32.864Z"
   },
   {
    "duration": 5,
    "start_time": "2024-01-20T15:01:35.571Z"
   },
   {
    "duration": 1202,
    "start_time": "2024-01-20T15:01:36.093Z"
   },
   {
    "duration": 9,
    "start_time": "2024-01-20T15:02:33.238Z"
   },
   {
    "duration": 3,
    "start_time": "2024-01-20T15:02:33.647Z"
   },
   {
    "duration": 28,
    "start_time": "2024-01-20T15:02:33.991Z"
   },
   {
    "duration": 6,
    "start_time": "2024-01-20T15:02:34.435Z"
   },
   {
    "duration": 6,
    "start_time": "2024-01-20T15:02:35.031Z"
   },
   {
    "duration": 3,
    "start_time": "2024-01-20T15:02:36.760Z"
   },
   {
    "duration": 1065,
    "start_time": "2024-01-20T15:02:37.160Z"
   },
   {
    "duration": 19,
    "start_time": "2024-01-20T15:13:33.413Z"
   },
   {
    "duration": 3,
    "start_time": "2024-01-20T15:13:34.794Z"
   },
   {
    "duration": 16,
    "start_time": "2024-01-20T15:13:35.188Z"
   },
   {
    "duration": 8,
    "start_time": "2024-01-20T15:13:35.899Z"
   },
   {
    "duration": 8,
    "start_time": "2024-01-20T15:13:36.613Z"
   },
   {
    "duration": 5,
    "start_time": "2024-01-20T15:13:37.917Z"
   },
   {
    "duration": 1464,
    "start_time": "2024-01-20T15:13:38.362Z"
   },
   {
    "duration": 5,
    "start_time": "2024-01-20T15:14:00.612Z"
   },
   {
    "duration": 15,
    "start_time": "2024-01-20T15:14:11.253Z"
   },
   {
    "duration": 16,
    "start_time": "2024-01-20T15:14:26.420Z"
   },
   {
    "duration": 20,
    "start_time": "2024-01-20T15:14:35.411Z"
   },
   {
    "duration": 4,
    "start_time": "2024-01-20T15:14:35.754Z"
   },
   {
    "duration": 30,
    "start_time": "2024-01-20T15:14:35.913Z"
   },
   {
    "duration": 6,
    "start_time": "2024-01-20T15:14:36.088Z"
   },
   {
    "duration": 15,
    "start_time": "2024-01-20T15:14:36.427Z"
   },
   {
    "duration": 9,
    "start_time": "2024-01-20T15:14:41.309Z"
   },
   {
    "duration": 8,
    "start_time": "2024-01-20T15:14:51.317Z"
   },
   {
    "duration": 22,
    "start_time": "2024-01-20T15:14:56.926Z"
   },
   {
    "duration": 3,
    "start_time": "2024-01-20T15:14:57.101Z"
   },
   {
    "duration": 35,
    "start_time": "2024-01-20T15:14:57.262Z"
   },
   {
    "duration": 9,
    "start_time": "2024-01-20T15:14:57.415Z"
   },
   {
    "duration": 8,
    "start_time": "2024-01-20T15:14:57.588Z"
   },
   {
    "duration": 4,
    "start_time": "2024-01-20T15:14:59.009Z"
   },
   {
    "duration": 631809,
    "start_time": "2024-01-20T15:14:59.314Z"
   },
   {
    "duration": 274153,
    "start_time": "2024-01-20T15:25:31.126Z"
   },
   {
    "duration": 1393,
    "start_time": "2024-01-20T15:30:05.281Z"
   },
   {
    "duration": 0,
    "start_time": "2024-01-20T15:30:06.676Z"
   },
   {
    "duration": 2061,
    "start_time": "2024-01-20T15:30:38.879Z"
   },
   {
    "duration": 3,
    "start_time": "2024-01-20T15:30:40.941Z"
   },
   {
    "duration": 4539,
    "start_time": "2024-01-20T15:30:51.615Z"
   },
   {
    "duration": 940,
    "start_time": "2024-01-20T15:30:56.156Z"
   },
   {
    "duration": 37,
    "start_time": "2024-01-20T15:30:57.097Z"
   },
   {
    "duration": 14,
    "start_time": "2024-01-20T15:30:57.136Z"
   },
   {
    "duration": 15,
    "start_time": "2024-01-20T15:30:57.151Z"
   },
   {
    "duration": 134,
    "start_time": "2024-01-20T15:30:57.167Z"
   },
   {
    "duration": 310,
    "start_time": "2024-01-20T15:30:57.302Z"
   },
   {
    "duration": 8,
    "start_time": "2024-01-20T15:30:57.614Z"
   },
   {
    "duration": 20,
    "start_time": "2024-01-20T15:30:57.624Z"
   },
   {
    "duration": 15,
    "start_time": "2024-01-20T15:30:57.647Z"
   },
   {
    "duration": 9,
    "start_time": "2024-01-20T15:30:57.664Z"
   },
   {
    "duration": 11580,
    "start_time": "2024-01-20T15:30:57.675Z"
   },
   {
    "duration": 2699,
    "start_time": "2024-01-20T15:31:09.256Z"
   },
   {
    "duration": 4,
    "start_time": "2024-01-20T15:31:11.957Z"
   },
   {
    "duration": 1280950,
    "start_time": "2024-01-20T15:31:11.962Z"
   },
   {
    "duration": 82,
    "start_time": "2024-01-20T15:52:32.914Z"
   },
   {
    "duration": 3,
    "start_time": "2024-01-20T15:52:32.998Z"
   },
   {
    "duration": 44,
    "start_time": "2024-01-20T15:52:33.002Z"
   },
   {
    "duration": 8,
    "start_time": "2024-01-20T15:52:33.048Z"
   },
   {
    "duration": 210,
    "start_time": "2024-01-20T15:52:33.058Z"
   },
   {
    "duration": 196,
    "start_time": "2024-01-20T15:52:33.270Z"
   },
   {
    "duration": 636255,
    "start_time": "2024-01-20T15:52:33.468Z"
   },
   {
    "duration": 277774,
    "start_time": "2024-01-20T16:03:09.726Z"
   },
   {
    "duration": 3,
    "start_time": "2024-01-20T16:07:47.502Z"
   },
   {
    "duration": 2083,
    "start_time": "2024-01-20T16:07:47.507Z"
   },
   {
    "duration": 4,
    "start_time": "2024-01-20T16:07:49.591Z"
   }
  ],
  "kernelspec": {
   "display_name": "Python 3 (ipykernel)",
   "language": "python",
   "name": "python3"
  },
  "language_info": {
   "codemirror_mode": {
    "name": "ipython",
    "version": 3
   },
   "file_extension": ".py",
   "mimetype": "text/x-python",
   "name": "python",
   "nbconvert_exporter": "python",
   "pygments_lexer": "ipython3",
   "version": "3.11.5"
  },
  "toc": {
   "base_numbering": 1,
   "nav_menu": {},
   "number_sections": true,
   "sideBar": true,
   "skip_h1_title": true,
   "title_cell": "Содержание",
   "title_sidebar": "Contents",
   "toc_cell": true,
   "toc_position": {
    "height": "calc(100% - 180px)",
    "left": "10px",
    "top": "150px",
    "width": "194.391px"
   },
   "toc_section_display": true,
   "toc_window_display": true
  }
 },
 "nbformat": 4,
 "nbformat_minor": 2
}
